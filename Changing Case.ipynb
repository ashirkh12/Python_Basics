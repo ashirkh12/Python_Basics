{
 "cells": [
  {
   "cell_type": "code",
   "execution_count": 4,
   "id": "5f6dfa78",
   "metadata": {},
   "outputs": [
    {
     "name": "stdout",
     "output_type": "stream",
     "text": [
      "i am a human\n"
     ]
    }
   ],
   "source": [
    "str_data=\"I Am a hUman\"\n",
    "print(str_data.lower())            #lowercase"
   ]
  },
  {
   "cell_type": "code",
   "execution_count": 2,
   "id": "58c95343",
   "metadata": {},
   "outputs": [
    {
     "name": "stdout",
     "output_type": "stream",
     "text": [
      "I AM A HUMAN\n"
     ]
    }
   ],
   "source": [
    "str_data=\"i am a human\"\n",
    "print(str_data.upper())            #uppercase"
   ]
  },
  {
   "cell_type": "code",
   "execution_count": 3,
   "id": "50adac35",
   "metadata": {},
   "outputs": [
    {
     "name": "stdout",
     "output_type": "stream",
     "text": [
      "I Am A Human\n"
     ]
    }
   ],
   "source": [
    "str_data=\"i am a human\"\n",
    "print(str_data.title())            #title case means 1st letter capital"
   ]
  },
  {
   "cell_type": "code",
   "execution_count": null,
   "id": "c5855b84",
   "metadata": {},
   "outputs": [],
   "source": []
  }
 ],
 "metadata": {
  "kernelspec": {
   "display_name": "Python 3 (ipykernel)",
   "language": "python",
   "name": "python3"
  },
  "language_info": {
   "codemirror_mode": {
    "name": "ipython",
    "version": 3
   },
   "file_extension": ".py",
   "mimetype": "text/x-python",
   "name": "python",
   "nbconvert_exporter": "python",
   "pygments_lexer": "ipython3",
   "version": "3.9.7"
  }
 },
 "nbformat": 4,
 "nbformat_minor": 5
}
