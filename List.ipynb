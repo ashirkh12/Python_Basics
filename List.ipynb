{
 "cells": [
  {
   "cell_type": "code",
   "execution_count": 9,
   "id": "a5935954",
   "metadata": {},
   "outputs": [
    {
     "data": {
      "text/plain": [
       "['ashir', 'fahad', 'aisha', 'ammara']"
      ]
     },
     "execution_count": 9,
     "metadata": {},
     "output_type": "execute_result"
    }
   ],
   "source": [
    "alist = [\"ashir\",\"fahad\",\"aisha\",\"ammara\"]\n",
    "#index       0       1      2        3\n",
    "alist"
   ]
  },
  {
   "cell_type": "code",
   "execution_count": 15,
   "id": "95e7613e",
   "metadata": {},
   "outputs": [
    {
     "data": {
      "text/plain": [
       "'ammara'"
      ]
     },
     "execution_count": 15,
     "metadata": {},
     "output_type": "execute_result"
    }
   ],
   "source": [
    "# how to access the members\n",
    "alist[3]"
   ]
  },
  {
   "cell_type": "code",
   "execution_count": 16,
   "id": "2a5148af",
   "metadata": {},
   "outputs": [
    {
     "data": {
      "text/plain": [
       "4"
      ]
     },
     "execution_count": 16,
     "metadata": {},
     "output_type": "execute_result"
    }
   ],
   "source": [
    "len(alist) # tells the length of a list by index "
   ]
  },
  {
   "cell_type": "code",
   "execution_count": 22,
   "id": "d794048f",
   "metadata": {},
   "outputs": [],
   "source": [
    "fruits=[]"
   ]
  },
  {
   "cell_type": "code",
   "execution_count": 23,
   "id": "06f0820d",
   "metadata": {},
   "outputs": [
    {
     "data": {
      "text/plain": [
       "0"
      ]
     },
     "execution_count": 23,
     "metadata": {},
     "output_type": "execute_result"
    }
   ],
   "source": [
    "len(fruits)  # returns 0 when the list is empty"
   ]
  },
  {
   "cell_type": "code",
   "execution_count": 32,
   "id": "7961bd9e",
   "metadata": {},
   "outputs": [],
   "source": [
    "                       # append and insert adds the value to the list\n",
    "fruits.append(\"apple\") # If we append again and again, it will print the value again and again\n",
    "                       # append by default appends in the end/last"
   ]
  },
  {
   "cell_type": "code",
   "execution_count": 33,
   "id": "90964403",
   "metadata": {},
   "outputs": [
    {
     "data": {
      "text/plain": [
       "['apple', 'apple', 'apple']"
      ]
     },
     "execution_count": 33,
     "metadata": {},
     "output_type": "execute_result"
    }
   ],
   "source": [
    "fruits "
   ]
  },
  {
   "cell_type": "code",
   "execution_count": 34,
   "id": "72409e36",
   "metadata": {},
   "outputs": [],
   "source": [
    "fruits.insert(1,\"mango\")\n",
    "# insert inserts the value using index means where we wish to insert the new value"
   ]
  },
  {
   "cell_type": "code",
   "execution_count": 35,
   "id": "7b61e67a",
   "metadata": {},
   "outputs": [
    {
     "data": {
      "text/plain": [
       "['apple', 'mango', 'apple', 'apple']"
      ]
     },
     "execution_count": 35,
     "metadata": {},
     "output_type": "execute_result"
    }
   ],
   "source": [
    "fruits"
   ]
  },
  {
   "cell_type": "code",
   "execution_count": 36,
   "id": "c42edebd",
   "metadata": {},
   "outputs": [
    {
     "data": {
      "text/plain": [
       "['apple', 'mango', 'apple', 'apple', 'guava', 'blueberry', 'cherry']"
      ]
     },
     "execution_count": 36,
     "metadata": {},
     "output_type": "execute_result"
    }
   ],
   "source": [
    "fruits.extend([\"guava\",\"blueberry\",\"cherry\"]) #extend function appends or inserts more than 1 value in a list\n",
    "fruits"
   ]
  },
  {
   "cell_type": "code",
   "execution_count": 37,
   "id": "37b089e5",
   "metadata": {},
   "outputs": [
    {
     "data": {
      "text/plain": [
       "3"
      ]
     },
     "execution_count": 37,
     "metadata": {},
     "output_type": "execute_result"
    }
   ],
   "source": [
    "fruits.count(\"apple\") #counts how many times a value is stored in a list"
   ]
  },
  {
   "cell_type": "code",
   "execution_count": 38,
   "id": "a20dd3a5",
   "metadata": {},
   "outputs": [
    {
     "data": {
      "text/plain": [
       "0"
      ]
     },
     "execution_count": 38,
     "metadata": {},
     "output_type": "execute_result"
    }
   ],
   "source": [
    "fruits.index(\"apple\") #tells on which index the value is placed"
   ]
  },
  {
   "cell_type": "code",
   "execution_count": 39,
   "id": "c7161b61",
   "metadata": {},
   "outputs": [
    {
     "data": {
      "text/plain": [
       "[]"
      ]
     },
     "execution_count": 39,
     "metadata": {},
     "output_type": "execute_result"
    }
   ],
   "source": [
    "fruits.clear() #remove all the items from the list\n",
    "fruits"
   ]
  },
  {
   "cell_type": "code",
   "execution_count": 40,
   "id": "03d42a7e",
   "metadata": {},
   "outputs": [
    {
     "data": {
      "text/plain": [
       "['apple', 'mango', 'banana', 'cherry', 'guava', 'orange']"
      ]
     },
     "execution_count": 40,
     "metadata": {},
     "output_type": "execute_result"
    }
   ],
   "source": [
    "fruits = [\"apple\",\"mango\",\"banana\",\"cherry\",\"guava\",\"orange\"]\n",
    "fruits"
   ]
  },
  {
   "cell_type": "code",
   "execution_count": 41,
   "id": "8d4f5e11",
   "metadata": {},
   "outputs": [
    {
     "data": {
      "text/plain": [
       "['apple', 'mango', 'banana', 'cherry', 'guava', 'orange']"
      ]
     },
     "execution_count": 41,
     "metadata": {},
     "output_type": "execute_result"
    }
   ],
   "source": [
    "fruits2=fruits.copy() # by value copying\n",
    "fruits"
   ]
  },
  {
   "cell_type": "code",
   "execution_count": 42,
   "id": "d5d1d987",
   "metadata": {},
   "outputs": [
    {
     "data": {
      "text/plain": [
       "['apple', 'mango', 'banana', 'cherry', 'guava', 'orange']"
      ]
     },
     "execution_count": 42,
     "metadata": {},
     "output_type": "execute_result"
    }
   ],
   "source": [
    "fruits2.append(\"newfruit\")\n",
    "fruits"
   ]
  },
  {
   "cell_type": "code",
   "execution_count": 43,
   "id": "68a1dbac",
   "metadata": {},
   "outputs": [
    {
     "data": {
      "text/plain": [
       "['apple', 'mango', 'banana', 'cherry', 'guava', 'orange']"
      ]
     },
     "execution_count": 43,
     "metadata": {},
     "output_type": "execute_result"
    }
   ],
   "source": [
    "fruits3 = fruits # by reference copying\n",
    "fruits"
   ]
  },
  {
   "cell_type": "code",
   "execution_count": 44,
   "id": "35e61fdb",
   "metadata": {},
   "outputs": [
    {
     "data": {
      "text/plain": [
       "['apple', 'mango', 'banana', 'cherry', 'guava', 'orange', 'newfruit']"
      ]
     },
     "execution_count": 44,
     "metadata": {},
     "output_type": "execute_result"
    }
   ],
   "source": [
    "fruits.append(\"newfruit\")\n",
    "fruits3"
   ]
  },
  {
   "cell_type": "code",
   "execution_count": 45,
   "id": "3f9867b8",
   "metadata": {},
   "outputs": [
    {
     "data": {
      "text/plain": [
       "['apple', 'mango', 'banana', 'guava', 'orange', 'newfruit']"
      ]
     },
     "execution_count": 45,
     "metadata": {},
     "output_type": "execute_result"
    }
   ],
   "source": [
    "# del statement deletes the value by taking the index of a value \n",
    "del fruits3[3]\n",
    "fruits3"
   ]
  },
  {
   "cell_type": "code",
   "execution_count": 46,
   "id": "b1d13f1e",
   "metadata": {},
   "outputs": [
    {
     "data": {
      "text/plain": [
       "['apple', 'mango', 'guava', 'orange', 'newfruit']"
      ]
     },
     "execution_count": 46,
     "metadata": {},
     "output_type": "execute_result"
    }
   ],
   "source": [
    "# remove function removes the value by taking the value to be deleted\n",
    "fruits3.remove(\"banana\")\n",
    "fruits3"
   ]
  },
  {
   "cell_type": "code",
   "execution_count": 47,
   "id": "7b701954",
   "metadata": {},
   "outputs": [
    {
     "data": {
      "text/plain": [
       "['ashir', 'fahad', 'aisha', 'ammara']"
      ]
     },
     "execution_count": 47,
     "metadata": {},
     "output_type": "execute_result"
    }
   ],
   "source": [
    "alist"
   ]
  },
  {
   "cell_type": "code",
   "execution_count": 48,
   "id": "939594b0",
   "metadata": {},
   "outputs": [
    {
     "name": "stdout",
     "output_type": "stream",
     "text": [
      "popped item in the list is ammara\n",
      "the remaining  items are ['ashir', 'fahad', 'aisha']\n"
     ]
    }
   ],
   "source": [
    "poppedlist=alist.pop()                          # the last element pops first in the list\n",
    "print(f\"popped item in the list is {poppedlist}\")\n",
    "print(f\"the remaining  items are {alist}\")"
   ]
  },
  {
   "cell_type": "code",
   "execution_count": 49,
   "id": "fd32372d",
   "metadata": {},
   "outputs": [
    {
     "name": "stdout",
     "output_type": "stream",
     "text": [
      "popped item in the list is aisha\n",
      "the remaining  items are ['ashir', 'fahad']\n"
     ]
    }
   ],
   "source": [
    "poppedlist=alist.pop()                          \n",
    "print(f\"popped item in the list is {poppedlist}\")   #now if we pop again then again pops from the last \n",
    "print(f\"the remaining  items are {alist}\")"
   ]
  },
  {
   "cell_type": "code",
   "execution_count": 50,
   "id": "e19d2641",
   "metadata": {},
   "outputs": [
    {
     "data": {
      "text/plain": [
       "['apple', 'mango', 'guava', 'orange', 'newfruit']"
      ]
     },
     "execution_count": 50,
     "metadata": {},
     "output_type": "execute_result"
    }
   ],
   "source": [
    "fruits3"
   ]
  },
  {
   "cell_type": "code",
   "execution_count": 51,
   "id": "6fcd148d",
   "metadata": {},
   "outputs": [
    {
     "data": {
      "text/plain": [
       "'guava'"
      ]
     },
     "execution_count": 51,
     "metadata": {},
     "output_type": "execute_result"
    }
   ],
   "source": [
    "poppedfruit=fruits3.pop(2)  # can also pop element by giving index value\n",
    "poppedfruit"
   ]
  },
  {
   "cell_type": "code",
   "execution_count": 52,
   "id": "736077d6",
   "metadata": {},
   "outputs": [
    {
     "data": {
      "text/plain": [
       "['apple', 'mango', 'orange', 'newfruit']"
      ]
     },
     "execution_count": 52,
     "metadata": {},
     "output_type": "execute_result"
    }
   ],
   "source": [
    "fruits3"
   ]
  },
  {
   "cell_type": "code",
   "execution_count": 53,
   "id": "709c741f",
   "metadata": {},
   "outputs": [
    {
     "data": {
      "text/plain": [
       "['apple', 'mango', 'newfruit', 'orange']"
      ]
     },
     "execution_count": 53,
     "metadata": {},
     "output_type": "execute_result"
    }
   ],
   "source": [
    "fruits3.sort()     # sorts elements in alphbetically ascending order\n",
    "fruits3"
   ]
  },
  {
   "cell_type": "code",
   "execution_count": 55,
   "id": "205df369",
   "metadata": {},
   "outputs": [
    {
     "data": {
      "text/plain": [
       "['orange', 'newfruit', 'mango', 'apple']"
      ]
     },
     "execution_count": 55,
     "metadata": {},
     "output_type": "execute_result"
    }
   ],
   "source": [
    "fruits3.sort(reverse=True)     # sorts elements in alphabetically descending order\n",
    "fruits3"
   ]
  },
  {
   "cell_type": "code",
   "execution_count": 56,
   "id": "592d235f",
   "metadata": {},
   "outputs": [
    {
     "data": {
      "text/plain": [
       "['apple', 'mango', 'newfruit', 'orange']"
      ]
     },
     "execution_count": 56,
     "metadata": {},
     "output_type": "execute_result"
    }
   ],
   "source": [
    "fruits3.reverse()      # only reverses all the elements and does not sort \n",
    "fruits3"
   ]
  },
  {
   "cell_type": "code",
   "execution_count": null,
   "id": "d691b86c",
   "metadata": {},
   "outputs": [],
   "source": []
  }
 ],
 "metadata": {
  "kernelspec": {
   "display_name": "Python 3 (ipykernel)",
   "language": "python",
   "name": "python3"
  },
  "language_info": {
   "codemirror_mode": {
    "name": "ipython",
    "version": 3
   },
   "file_extension": ".py",
   "mimetype": "text/x-python",
   "name": "python",
   "nbconvert_exporter": "python",
   "pygments_lexer": "ipython3",
   "version": "3.9.7"
  }
 },
 "nbformat": 4,
 "nbformat_minor": 5
}
