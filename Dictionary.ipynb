{
 "cells": [
  {
   "cell_type": "code",
   "execution_count": 1,
   "id": "39d6e73e",
   "metadata": {},
   "outputs": [],
   "source": [
    "#Syntax\n",
    "#myDict = {key:value, key:value, key,value}        \n",
    "myDict = {\"name\" : \"Zain\",  \"age\" : 21, \"gender\" : \"Male\"}"
   ]
  },
  {
   "cell_type": "code",
   "execution_count": 2,
   "id": "5b2d73bb",
   "metadata": {},
   "outputs": [
    {
     "data": {
      "text/plain": [
       "{'name': 'Zain', 'age': 21, 'gender': 'Male'}"
      ]
     },
     "execution_count": 2,
     "metadata": {},
     "output_type": "execute_result"
    }
   ],
   "source": [
    "myDict"
   ]
  },
  {
   "cell_type": "code",
   "execution_count": 3,
   "id": "caafec75",
   "metadata": {},
   "outputs": [
    {
     "data": {
      "text/plain": [
       "3"
      ]
     },
     "execution_count": 3,
     "metadata": {},
     "output_type": "execute_result"
    }
   ],
   "source": [
    "len(myDict)"
   ]
  },
  {
   "cell_type": "code",
   "execution_count": 4,
   "id": "b75bfced",
   "metadata": {},
   "outputs": [],
   "source": [
    "# ADDING A NEW KEY TO AN EXISTING DICTIONARY\n",
    "myDict[\"email\"] = \"ashirkh12@gmail.com\""
   ]
  },
  {
   "cell_type": "code",
   "execution_count": 5,
   "id": "d57fdb4b",
   "metadata": {},
   "outputs": [
    {
     "data": {
      "text/plain": [
       "{'name': 'Zain', 'age': 21, 'gender': 'Male', 'email': 'ashirkh12@gmail.com'}"
      ]
     },
     "execution_count": 5,
     "metadata": {},
     "output_type": "execute_result"
    }
   ],
   "source": [
    "myDict"
   ]
  },
  {
   "cell_type": "code",
   "execution_count": 6,
   "id": "857a0e95",
   "metadata": {},
   "outputs": [
    {
     "data": {
      "text/plain": [
       "4"
      ]
     },
     "execution_count": 6,
     "metadata": {},
     "output_type": "execute_result"
    }
   ],
   "source": [
    "len(myDict)"
   ]
  },
  {
   "cell_type": "code",
   "execution_count": 7,
   "id": "25568bfe",
   "metadata": {},
   "outputs": [
    {
     "data": {
      "text/plain": [
       "'Zain'"
      ]
     },
     "execution_count": 7,
     "metadata": {},
     "output_type": "execute_result"
    }
   ],
   "source": [
    "# Access THE KEY VALUE in the Dictionary\n",
    "myDict[\"name\"]"
   ]
  },
  {
   "cell_type": "code",
   "execution_count": 8,
   "id": "97edef68",
   "metadata": {},
   "outputs": [
    {
     "data": {
      "text/plain": [
       "21"
      ]
     },
     "execution_count": 8,
     "metadata": {},
     "output_type": "execute_result"
    }
   ],
   "source": [
    "myDict[\"age\"]\n"
   ]
  },
  {
   "cell_type": "code",
   "execution_count": 16,
   "id": "414ff851",
   "metadata": {},
   "outputs": [
    {
     "data": {
      "text/plain": [
       "'Python'"
      ]
     },
     "execution_count": 16,
     "metadata": {},
     "output_type": "execute_result"
    }
   ],
   "source": [
    "newdict = {1 : \"Hello\", 2 : \"Python\" }\n",
    "newdict[2]"
   ]
  },
  {
   "cell_type": "code",
   "execution_count": 18,
   "id": "171be463",
   "metadata": {},
   "outputs": [
    {
     "data": {
      "text/plain": [
       "{1: 'Hello'}"
      ]
     },
     "execution_count": 18,
     "metadata": {},
     "output_type": "execute_result"
    }
   ],
   "source": [
    "# Deleting a Key\n",
    "del newdict[2]                                    #value deleted\n",
    "newdict"
   ]
  },
  {
   "cell_type": "code",
   "execution_count": 17,
   "id": "4697ca50",
   "metadata": {},
   "outputs": [
    {
     "data": {
      "text/plain": [
       "{1: 'Hello', 2: 'Python'}"
      ]
     },
     "execution_count": 17,
     "metadata": {},
     "output_type": "execute_result"
    }
   ],
   "source": [
    "newdict"
   ]
  },
  {
   "cell_type": "code",
   "execution_count": 19,
   "id": "f7efa8d3",
   "metadata": {},
   "outputs": [
    {
     "data": {
      "text/plain": [
       "{'name': 'Zain', 'age': 21, 'gender': 'Male', 'email': 'ashirkh12@gmail.com'}"
      ]
     },
     "execution_count": 19,
     "metadata": {},
     "output_type": "execute_result"
    }
   ],
   "source": [
    "# UPDATING a key\n",
    "myDict"
   ]
  },
  {
   "cell_type": "code",
   "execution_count": 20,
   "id": "8f14c21b",
   "metadata": {},
   "outputs": [
    {
     "data": {
      "text/plain": [
       "{'name': 'Zain',\n",
       " 'age': 21,\n",
       " 'gender': 'Male',\n",
       " 'email': 'ashirkhan867@gmail.com'}"
      ]
     },
     "execution_count": 20,
     "metadata": {},
     "output_type": "execute_result"
    }
   ],
   "source": [
    "myDict[\"email\"] = \"ashirkhan867@gmail.com\"         #value updated\n",
    "myDict"
   ]
  },
  {
   "cell_type": "code",
   "execution_count": 21,
   "id": "e71548f7",
   "metadata": {},
   "outputs": [
    {
     "data": {
      "text/plain": [
       "{1: 100, 2: 100, 3: 1000}"
      ]
     },
     "execution_count": 21,
     "metadata": {},
     "output_type": "execute_result"
    }
   ],
   "source": [
    "aDic = {1 : 10 , 2 : 100 , 3 : 1000 , 1 : 100}      # 1 : 100 overwrites the 1 : 10  value \n",
    "aDic"
   ]
  },
  {
   "cell_type": "code",
   "execution_count": 22,
   "id": "e14271bc",
   "metadata": {},
   "outputs": [
    {
     "data": {
      "text/plain": [
       "True"
      ]
     },
     "execution_count": 22,
     "metadata": {},
     "output_type": "execute_result"
    }
   ],
   "source": [
    "# To know whether the key exists in the dictionary, it returns either true or false\n",
    "1 in aDic "
   ]
  },
  {
   "cell_type": "code",
   "execution_count": 23,
   "id": "f25c97e1",
   "metadata": {},
   "outputs": [
    {
     "data": {
      "text/plain": [
       "{'name': 'Zain',\n",
       " 'age': 21,\n",
       " 'gender': 'Male',\n",
       " 'email': 'ashirkhan867@gmail.com'}"
      ]
     },
     "execution_count": 23,
     "metadata": {},
     "output_type": "execute_result"
    }
   ],
   "source": [
    "myDict"
   ]
  },
  {
   "cell_type": "code",
   "execution_count": 24,
   "id": "1f2274f5",
   "metadata": {},
   "outputs": [
    {
     "data": {
      "text/plain": [
       "True"
      ]
     },
     "execution_count": 24,
     "metadata": {},
     "output_type": "execute_result"
    }
   ],
   "source": [
    "\"age\" in myDict"
   ]
  },
  {
   "cell_type": "code",
   "execution_count": 25,
   "id": "11f9f3b4",
   "metadata": {},
   "outputs": [
    {
     "data": {
      "text/plain": [
       "False"
      ]
     },
     "execution_count": 25,
     "metadata": {},
     "output_type": "execute_result"
    }
   ],
   "source": [
    "\"Age\" in myDict"
   ]
  },
  {
   "cell_type": "code",
   "execution_count": 44,
   "id": "fe17f9fd",
   "metadata": {},
   "outputs": [
    {
     "name": "stdout",
     "output_type": "stream",
     "text": [
      "{'name': 'zain', 'age': 21, 'gender': 'M'}\n",
      "{'name': 'abdien', 'age': 22, 'gender': 'F'}\n"
     ]
    }
   ],
   "source": [
    "# Accessing information from list of dictionaries\n",
    "students = []\n",
    "students.append({\"name\" : \"zain\", \"age\" : 21, \"gender\" : \"M\"})\n",
    "students.append({\"name\" : \"abdien\", \"age\" : 22,\"gender\" : \"F\"})\n",
    "for student in students:\n",
    "    print(student)"
   ]
  },
  {
   "cell_type": "code",
   "execution_count": 33,
   "id": "5eb45b88",
   "metadata": {},
   "outputs": [
    {
     "name": "stdout",
     "output_type": "stream",
     "text": [
      "Fahad\n",
      "Ashir\n"
     ]
    }
   ],
   "source": [
    "# Dictionary that holds a list\n",
    "employee = {\"Name\" : \"Zain\", \"Childnames\" : [\"Fahad\", \"Ashir\"]}\n",
    "print(employee[\"Childnames\"][0])\n",
    "print(employee[\"Childnames\"][1])\n",
    " "
   ]
  },
  {
   "cell_type": "code",
   "execution_count": 45,
   "id": "6c27d67d",
   "metadata": {},
   "outputs": [
    {
     "name": "stdout",
     "output_type": "stream",
     "text": [
      "{'foo': 12, 'bar': 14}\n",
      "14\n",
      "{'moo': 52, 'car': 641}\n",
      "52\n",
      "{'doo': 6, 'tar': 84}\n",
      "6\n"
     ]
    }
   ],
   "source": [
    "# List that holds a dictionary\n",
    "myList = [{'foo':12,'bar':14},{'moo':52,'car':641},{'doo':6,'tar':84}]\n",
    "\n",
    "print(myList[0])\n",
    "print(myList[0]['bar'])\n",
    "\n",
    "print(myList[1])\n",
    "print(myList[1]['moo'])\n",
    "\n",
    "print(myList[2])\n",
    "print(myList[2]['doo'])"
   ]
  },
  {
   "cell_type": "code",
   "execution_count": 50,
   "id": "5611fd48",
   "metadata": {},
   "outputs": [
    {
     "name": "stdout",
     "output_type": "stream",
     "text": [
      "{'age': 10, 'class': '6th standard'}\n",
      "8\n"
     ]
    }
   ],
   "source": [
    "# Dictionary that holds a Dictionary\n",
    "employee = {\"name\" : \"shams\", \"children\" : { \"Humaira\" : {\"age\" : 10 , \"class\" : \"6th standard\"}, \"Abdur rehman\" : \n",
    "           {\"age\" : 8, \"class\" : \"4th standard\"}}}\n",
    "print(employee[\"children\"][\"Humaira\"])\n",
    "print(employee[\"children\"][\"Abdur rehman\"][\"age\"])"
   ]
  },
  {
   "cell_type": "code",
   "execution_count": 54,
   "id": "77bbea68",
   "metadata": {},
   "outputs": [
    {
     "data": {
      "text/plain": [
       "{'name': 'Zain',\n",
       " 'age': 21,\n",
       " 'gender': 'Male',\n",
       " 'email': 'ashirkhan867@gmail.com'}"
      ]
     },
     "execution_count": 54,
     "metadata": {},
     "output_type": "execute_result"
    }
   ],
   "source": [
    "myDict"
   ]
  },
  {
   "cell_type": "code",
   "execution_count": 55,
   "id": "cbc9286f",
   "metadata": {},
   "outputs": [
    {
     "name": "stdout",
     "output_type": "stream",
     "text": [
      "Zain\n",
      "21\n",
      "Male\n",
      "ashirkhan867@gmail.com\n"
     ]
    }
   ],
   "source": [
    "# Dictionary iterating items\n",
    "# pYTHOn provides 3 methods over dictionary object to iterate over dictionary values,keys and key value pair\n",
    "for value in myDict.values():\n",
    "    print(value)"
   ]
  },
  {
   "cell_type": "code",
   "execution_count": 56,
   "id": "6306a079",
   "metadata": {},
   "outputs": [
    {
     "name": "stdout",
     "output_type": "stream",
     "text": [
      "name\n",
      "age\n",
      "gender\n",
      "email\n"
     ]
    }
   ],
   "source": [
    "for key in myDict.keys():\n",
    "    print(key)"
   ]
  },
  {
   "cell_type": "code",
   "execution_count": 57,
   "id": "2de85d8e",
   "metadata": {},
   "outputs": [
    {
     "name": "stdout",
     "output_type": "stream",
     "text": [
      "('name', 'Zain')\n",
      "('age', 21)\n",
      "('gender', 'Male')\n",
      "('email', 'ashirkhan867@gmail.com')\n"
     ]
    }
   ],
   "source": [
    "for item in myDict.items():\n",
    "    print(item)"
   ]
  },
  {
   "cell_type": "code",
   "execution_count": null,
   "id": "9ffe814c",
   "metadata": {},
   "outputs": [],
   "source": []
  }
 ],
 "metadata": {
  "kernelspec": {
   "display_name": "Python 3 (ipykernel)",
   "language": "python",
   "name": "python3"
  },
  "language_info": {
   "codemirror_mode": {
    "name": "ipython",
    "version": 3
   },
   "file_extension": ".py",
   "mimetype": "text/x-python",
   "name": "python",
   "nbconvert_exporter": "python",
   "pygments_lexer": "ipython3",
   "version": "3.9.7"
  }
 },
 "nbformat": 4,
 "nbformat_minor": 5
}
