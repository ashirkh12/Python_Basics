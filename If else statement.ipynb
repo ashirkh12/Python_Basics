{
 "cells": [
  {
   "cell_type": "code",
   "execution_count": 2,
   "id": "46de0c61",
   "metadata": {},
   "outputs": [
    {
     "name": "stdout",
     "output_type": "stream",
     "text": [
      "a is greater than b\n"
     ]
    }
   ],
   "source": [
    "a=40\n",
    "b=32\n",
    "if a>b: #returns true\n",
    "    print(\"a is greater than b\") #this block will be executed"
   ]
  },
  {
   "cell_type": "code",
   "execution_count": 9,
   "id": "be21f09c",
   "metadata": {},
   "outputs": [
    {
     "name": "stdout",
     "output_type": "stream",
     "text": [
      "pakistan\n"
     ]
    }
   ],
   "source": [
    "if b>a: #returns false\n",
    "    print(\"a is greater than b\") #this block of code will not be executed\n",
    "print(\"pakistan\") #this print runs because it is not indented"
   ]
  },
  {
   "cell_type": "code",
   "execution_count": 1,
   "id": "25108bb6",
   "metadata": {},
   "outputs": [
    {
     "name": "stdout",
     "output_type": "stream",
     "text": [
      "a is less than b \n"
     ]
    }
   ],
   "source": [
    "a=20\n",
    "b=33\n",
    "if a>b:                           # condition returns false\n",
    "    print(\"a is greater than b \") \n",
    "elif a==b:                        # elif keyword (If the previous condition is not true then try this condition)\n",
    "    print(\"a is equal to b \")\n",
    "else:                             # If no condition returns true than execute else blockSS\n",
    "    print(\"a is less than b \")"
   ]
  },
  {
   "cell_type": "code",
   "execution_count": null,
   "id": "a67eca91",
   "metadata": {},
   "outputs": [],
   "source": [
    "SS"
   ]
  }
 ],
 "metadata": {
  "kernelspec": {
   "display_name": "Python 3 (ipykernel)",
   "language": "python",
   "name": "python3"
  },
  "language_info": {
   "codemirror_mode": {
    "name": "ipython",
    "version": 3
   },
   "file_extension": ".py",
   "mimetype": "text/x-python",
   "name": "python",
   "nbconvert_exporter": "python",
   "pygments_lexer": "ipython3",
   "version": "3.9.7"
  }
 },
 "nbformat": 4,
 "nbformat_minor": 5
}
