{
 "cells": [
  {
   "cell_type": "code",
   "execution_count": null,
   "id": "69042ec5",
   "metadata": {},
   "outputs": [],
   "source": [
    "#operators{+ , - , * , /}"
   ]
  },
  {
   "cell_type": "code",
   "execution_count": 1,
   "id": "faf17bd0",
   "metadata": {},
   "outputs": [
    {
     "name": "stdout",
     "output_type": "stream",
     "text": [
      "74\n"
     ]
    }
   ],
   "source": [
    "print(40 + 34)\n"
   ]
  },
  {
   "cell_type": "code",
   "execution_count": 2,
   "id": "c636af19",
   "metadata": {},
   "outputs": [
    {
     "name": "stdout",
     "output_type": "stream",
     "text": [
      "5\n"
     ]
    }
   ],
   "source": [
    "a = 2\n",
    "b = 3\n",
    "c = a+b\n",
    "print(c)"
   ]
  },
  {
   "cell_type": "code",
   "execution_count": 4,
   "id": "cdc175ab",
   "metadata": {},
   "outputs": [
    {
     "name": "stdout",
     "output_type": "stream",
     "text": [
      "-100.30000000000001\n"
     ]
    }
   ],
   "source": [
    "value1 = 100\n",
    "value2 = 200.3\n",
    "sub = value1 - value2\n",
    "print(sub)"
   ]
  },
  {
   "cell_type": "code",
   "execution_count": 5,
   "id": "af302688",
   "metadata": {},
   "outputs": [
    {
     "name": "stdout",
     "output_type": "stream",
     "text": [
      "20030.0\n"
     ]
    }
   ],
   "source": [
    "value1 = 100\n",
    "value2 = 200.3\n",
    "mul = value1 * value2\n",
    "print(mul)"
   ]
  },
  {
   "cell_type": "code",
   "execution_count": 8,
   "id": "a3e7c71e",
   "metadata": {},
   "outputs": [
    {
     "name": "stdout",
     "output_type": "stream",
     "text": [
      "1.0\n"
     ]
    }
   ],
   "source": [
    "value1 = 100\n",
    "value2 = 100\n",
    "div = value1 / value2\n",
    "print(div)\n",
    "#python does division in floating point\n",
    "#(floating point division)"
   ]
  },
  {
   "cell_type": "code",
   "execution_count": 9,
   "id": "254e7bd4",
   "metadata": {},
   "outputs": [
    {
     "name": "stdout",
     "output_type": "stream",
     "text": [
      "1\n"
     ]
    }
   ],
   "source": [
    "value1 = 100\n",
    "value2 = 100\n",
    "div = value1 // value2\n",
    "print(div)\n",
    "#double slash for result in integer\n",
    "#(integer division)"
   ]
  },
  {
   "cell_type": "code",
   "execution_count": 10,
   "id": "828bf150",
   "metadata": {},
   "outputs": [
    {
     "name": "stdout",
     "output_type": "stream",
     "text": [
      "0\n"
     ]
    }
   ],
   "source": [
    "value1 = 100\n",
    "value2 = 200\n",
    "div = value1 // value2\n",
    "print(div)\n",
    "#gives the output 0.5 but it cuts the .5 part because we // which returns output in integer"
   ]
  },
  {
   "cell_type": "code",
   "execution_count": 11,
   "id": "7919e5c9",
   "metadata": {},
   "outputs": [
    {
     "data": {
      "text/plain": [
       "'2030'"
      ]
     },
     "execution_count": 11,
     "metadata": {},
     "output_type": "execute_result"
    }
   ],
   "source": [
    "# in string + operation is not addition but it is concatenation\n",
    "\n",
    "a='20'\n",
    "b='30'\n",
    "a+b"
   ]
  },
  {
   "cell_type": "code",
   "execution_count": 15,
   "id": "4cb78c0f",
   "metadata": {},
   "outputs": [
    {
     "name": "stdout",
     "output_type": "stream",
     "text": [
      "3.0\n"
     ]
    }
   ],
   "source": [
    "a=1.5\n",
    "b=1.5\n",
    "c= a+b\n",
    "print(c)\n",
    "#if one floating point comes, means the output will return in floating point  "
   ]
  },
  {
   "cell_type": "code",
   "execution_count": null,
   "id": "80564b4b",
   "metadata": {},
   "outputs": [],
   "source": []
  }
 ],
 "metadata": {
  "kernelspec": {
   "display_name": "Python 3 (ipykernel)",
   "language": "python",
   "name": "python3"
  },
  "language_info": {
   "codemirror_mode": {
    "name": "ipython",
    "version": 3
   },
   "file_extension": ".py",
   "mimetype": "text/x-python",
   "name": "python",
   "nbconvert_exporter": "python",
   "pygments_lexer": "ipython3",
   "version": "3.9.7"
  }
 },
 "nbformat": 4,
 "nbformat_minor": 5
}
