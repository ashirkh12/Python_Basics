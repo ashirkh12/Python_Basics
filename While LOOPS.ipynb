{
 "cells": [
  {
   "cell_type": "code",
   "execution_count": 1,
   "id": "f189e970",
   "metadata": {},
   "outputs": [
    {
     "name": "stdout",
     "output_type": "stream",
     "text": [
      "hello\n"
     ]
    }
   ],
   "source": [
    "print(\"hello\")"
   ]
  },
  {
   "cell_type": "code",
   "execution_count": 3,
   "id": "3715429a",
   "metadata": {},
   "outputs": [
    {
     "name": "stdout",
     "output_type": "stream",
     "text": [
      "0 this is while loop printing\n",
      "1 this is while loop printing\n",
      "2 this is while loop printing\n",
      "3 this is while loop printing\n",
      "4 this is while loop printing\n",
      "5 this is while loop printing\n",
      "6 this is while loop printing\n",
      "7 this is while loop printing\n",
      "8 this is while loop printing\n",
      "9 this is while loop printing\n"
     ]
    }
   ],
   "source": [
    "a=0\n",
    "while a<10:\n",
    "    print(a ,\"this is while loop printing\")\n",
    "    a= a+1"
   ]
  },
  {
   "cell_type": "code",
   "execution_count": 5,
   "id": "6f6afe53",
   "metadata": {},
   "outputs": [
    {
     "name": "stdout",
     "output_type": "stream",
     "text": [
      "0 this is for loop printing\n",
      "1 this is for loop printing\n",
      "2 this is for loop printing\n",
      "3 this is for loop printing\n",
      "4 this is for loop printing\n",
      "5 this is for loop printing\n",
      "6 this is for loop printing\n",
      "7 this is for loop printing\n",
      "8 this is for loop printing\n",
      "9 this is for loop printing\n",
      "10 this is for loop printing\n"
     ]
    }
   ],
   "source": [
    "for num in range(11):\n",
    "    print(num, \"this is for loop printing\")\n",
    "    "
   ]
  },
  {
   "cell_type": "code",
   "execution_count": 6,
   "id": "3580eaea",
   "metadata": {},
   "outputs": [
    {
     "name": "stdout",
     "output_type": "stream",
     "text": [
      "Enter your age 21\n",
      "Enter your age 32\n",
      "Enter your age 21\n",
      "Enter your age 43\n",
      "Enter your age 21\n",
      "Enter your age 32\n",
      "Enter your age 21\n",
      "Enter your age 43\n",
      "Enter your age 21\n",
      "Enter your age 32\n"
     ]
    }
   ],
   "source": [
    "# we dont know when the user stops giving inputs this way therefore we use flags in while loops\n",
    "a=0\n",
    "while a<10:\n",
    "    userinput = int(input(\"Enter your age \"))\n",
    "    a+=1"
   ]
  },
  {
   "cell_type": "markdown",
   "id": "3d17f93d",
   "metadata": {},
   "source": [
    "# Setting a flag"
   ]
  },
  {
   "cell_type": "code",
   "execution_count": 11,
   "id": "a27280d0",
   "metadata": {},
   "outputs": [
    {
     "name": "stdout",
     "output_type": "stream",
     "text": [
      "Enter your favourite foods karahi\n",
      "Enter your favourite foods biryani\n",
      "Enter your favourite foods Q\n"
     ]
    },
    {
     "data": {
      "text/plain": [
       "['karahi', 'biryani']"
      ]
     },
     "execution_count": 11,
     "metadata": {},
     "output_type": "execute_result"
    }
   ],
   "source": [
    "flag = True\n",
    "favFood=[]\n",
    "while flag:\n",
    "    userinput= input(\"Enter your favourite foods \")\n",
    "    if userinput==\"Q\":\n",
    "        flag= False\n",
    "    else:\n",
    "            favFood.append(userinput)\n",
    "favFood"
   ]
  },
  {
   "cell_type": "code",
   "execution_count": null,
   "id": "61096234",
   "metadata": {},
   "outputs": [],
   "source": []
  }
 ],
 "metadata": {
  "kernelspec": {
   "display_name": "Python 3 (ipykernel)",
   "language": "python",
   "name": "python3"
  },
  "language_info": {
   "codemirror_mode": {
    "name": "ipython",
    "version": 3
   },
   "file_extension": ".py",
   "mimetype": "text/x-python",
   "name": "python",
   "nbconvert_exporter": "python",
   "pygments_lexer": "ipython3",
   "version": "3.9.7"
  }
 },
 "nbformat": 4,
 "nbformat_minor": 5
}
