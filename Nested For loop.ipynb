{
 "cells": [
  {
   "cell_type": "code",
   "execution_count": 1,
   "id": "ed15521a",
   "metadata": {},
   "outputs": [
    {
     "name": "stdout",
     "output_type": "stream",
     "text": [
      "inner body begins\n",
      "0 A\n",
      "0 s\n",
      "0 h\n",
      "0 i\n",
      "0 r\n",
      "inner body begins\n",
      "1 A\n",
      "1 s\n",
      "1 h\n",
      "1 i\n",
      "1 r\n",
      "inner body begins\n",
      "2 A\n",
      "2 s\n",
      "2 h\n",
      "2 i\n",
      "2 r\n"
     ]
    }
   ],
   "source": [
    "for a in range(3):\n",
    "    print(\"inner body begins\")\n",
    "    for char in \"Ashir\":\n",
    "        print(a,char)"
   ]
  },
  {
   "cell_type": "code",
   "execution_count": 2,
   "id": "c50d46c8",
   "metadata": {},
   "outputs": [
    {
     "name": "stdout",
     "output_type": "stream",
     "text": [
      "inner body begins\n",
      "0 Ashir\n",
      "0 Fahad\n",
      "inner body begins\n",
      "1 Ashir\n",
      "1 Fahad\n",
      "inner body begins\n",
      "2 Ashir\n",
      "2 Fahad\n"
     ]
    }
   ],
   "source": [
    "for a in range(3):\n",
    "    print(\"inner body begins\")\n",
    "    for char in \"Ashir\",\"Fahad\":\n",
    "        print(a,char)"
   ]
  },
  {
   "cell_type": "code",
   "execution_count": 5,
   "id": "c8d33819",
   "metadata": {},
   "outputs": [
    {
     "name": "stdout",
     "output_type": "stream",
     "text": [
      "Enter table number2\n",
      "2 * 1 = 2\n",
      "2 * 2 = 4\n",
      "2 * 3 = 6\n",
      "2 * 4 = 8\n",
      "2 * 5 = 10\n",
      "2 * 6 = 12\n",
      "2 * 7 = 14\n",
      "2 * 8 = 16\n",
      "2 * 9 = 18\n",
      "2 * 10 = 20\n"
     ]
    }
   ],
   "source": [
    "tablenumber= int(input(\"Enter table number\"))                      # to make a table using for loop\n",
    "for a in range(1,11):\n",
    "    print(f\"{tablenumber} * {a} = {tablenumber*a}\")"
   ]
  },
  {
   "cell_type": "code",
   "execution_count": 12,
   "id": "12f10f48",
   "metadata": {},
   "outputs": [
    {
     "name": "stdout",
     "output_type": "stream",
     "text": [
      "Enter the range of the table 3\n",
      "2 * 1 = 3\n",
      "2 * 2 = 6\n",
      "2 * 3 = 9\n",
      "2 * 4 = 12\n",
      "2 * 5 = 15\n",
      "2 * 6 = 18\n",
      "2 * 7 = 21\n",
      "2 * 8 = 24\n",
      "2 * 9 = 27\n",
      "2 * 10 = 30\n",
      "3 * 1 = 3\n",
      "3 * 2 = 6\n",
      "3 * 3 = 9\n",
      "3 * 4 = 12\n",
      "3 * 5 = 15\n",
      "3 * 6 = 18\n",
      "3 * 7 = 21\n",
      "3 * 8 = 24\n",
      "3 * 9 = 27\n",
      "3 * 10 = 30\n"
     ]
    }
   ],
   "source": [
    "tables= int(input(\"Enter the range of the table \"))\n",
    "for table in range(2, tables +1):\n",
    "    for a in range(1,11):                  # table +1 range hai agr 5 tk tables chahye toh +1 krdia\n",
    "        print(f\"{table} * {a} = {tables*a}\")\n"
   ]
  },
  {
   "cell_type": "code",
   "execution_count": 19,
   "id": "c4906cd4",
   "metadata": {},
   "outputs": [
    {
     "name": "stdout",
     "output_type": "stream",
     "text": [
      "enter the number which the user wants to print the mul table 4\n",
      "the multiplication of  4\n",
      "4 * 1 = 4\n",
      "4 * 2 = 8\n",
      "4 * 3 = 12\n",
      "4 * 4 = 16\n",
      "4 * 5 = 20\n",
      "4 * 6 = 24\n",
      "4 * 7 = 28\n",
      "4 * 8 = 32\n",
      "4 * 9 = 36\n",
      "4 * 10 = 40\n"
     ]
    }
   ],
   "source": [
    "number=int(input(\"enter the number which the user wants to print the mul table \"))\n",
    "print(\"the multiplication of \",number)\n",
    "for count in range(1,11):\n",
    "    print(number,\"*\",count, \"=\", number*count)"
   ]
  },
  {
   "cell_type": "code",
   "execution_count": null,
   "id": "215e5891",
   "metadata": {},
   "outputs": [],
   "source": []
  }
 ],
 "metadata": {
  "kernelspec": {
   "display_name": "Python 3 (ipykernel)",
   "language": "python",
   "name": "python3"
  },
  "language_info": {
   "codemirror_mode": {
    "name": "ipython",
    "version": 3
   },
   "file_extension": ".py",
   "mimetype": "text/x-python",
   "name": "python",
   "nbconvert_exporter": "python",
   "pygments_lexer": "ipython3",
   "version": "3.9.7"
  }
 },
 "nbformat": 4,
 "nbformat_minor": 5
}
