{
 "cells": [
  {
   "cell_type": "code",
   "execution_count": null,
   "id": "ca200273",
   "metadata": {},
   "outputs": [],
   "source": [
    "# Modes\n",
    "########\n",
    "# reading mode\n",
    "# writing mode\n",
    "# append mode\n",
    "##########"
   ]
  },
  {
   "cell_type": "code",
   "execution_count": 1,
   "id": "eb3397e7",
   "metadata": {},
   "outputs": [
    {
     "name": "stdout",
     "output_type": "stream",
     "text": [
      "this is a test file. We will read the file from Python Code.\n"
     ]
    }
   ],
   "source": [
    "with open (\"testingDataFiles.txt\",\"r\") as file:\n",
    "    content= file.read()\n",
    "print(content)"
   ]
  },
  {
   "cell_type": "code",
   "execution_count": 2,
   "id": "71797d8b",
   "metadata": {},
   "outputs": [],
   "source": [
    "with open (\"testingDataFiles.txt\",\"w\") as file:\n",
    "    file.write(\"writing in data files \")"
   ]
  },
  {
   "cell_type": "code",
   "execution_count": 3,
   "id": "4432626a",
   "metadata": {},
   "outputs": [],
   "source": [
    "with open (\"testingDataFiles.txt\", \"w\") as f:\n",
    "    f.write(\"this is testing\")"
   ]
  },
  {
   "cell_type": "code",
   "execution_count": 4,
   "id": "88a825ec",
   "metadata": {},
   "outputs": [
    {
     "ename": "FileNotFoundError",
     "evalue": "[Errno 2] No such file or directory: 'Non-existing file'",
     "output_type": "error",
     "traceback": [
      "\u001b[1;31m---------------------------------------------------------------------------\u001b[0m",
      "\u001b[1;31mFileNotFoundError\u001b[0m                         Traceback (most recent call last)",
      "\u001b[1;32m~\\AppData\\Local\\Temp/ipykernel_22764/783092309.py\u001b[0m in \u001b[0;36m<module>\u001b[1;34m\u001b[0m\n\u001b[1;32m----> 1\u001b[1;33m \u001b[1;32mwith\u001b[0m \u001b[0mopen\u001b[0m \u001b[1;33m(\u001b[0m\u001b[1;34m\"Non-existing file\"\u001b[0m\u001b[1;33m,\u001b[0m \u001b[1;34m\"r\"\u001b[0m\u001b[1;33m)\u001b[0m \u001b[1;32mas\u001b[0m \u001b[0mfile\u001b[0m\u001b[1;33m:\u001b[0m\u001b[1;33m\u001b[0m\u001b[1;33m\u001b[0m\u001b[0m\n\u001b[0m\u001b[0;32m      2\u001b[0m     \u001b[0mfile\u001b[0m\u001b[1;33m.\u001b[0m\u001b[0mread\u001b[0m\u001b[1;33m(\u001b[0m\u001b[1;33m)\u001b[0m\u001b[1;33m\u001b[0m\u001b[1;33m\u001b[0m\u001b[0m\n",
      "\u001b[1;31mFileNotFoundError\u001b[0m: [Errno 2] No such file or directory: 'Non-existing file'"
     ]
    }
   ],
   "source": [
    "with open (\"Non-existing file\", \"r\") as file:\n",
    "    file.read()"
   ]
  },
  {
   "cell_type": "code",
   "execution_count": 5,
   "id": "ef72ca27",
   "metadata": {},
   "outputs": [],
   "source": [
    "# If file does not exist, w mode will create and write in it.\n",
    "with open (\"Non-existing file\", \"w\") as file:\n",
    "    file.write(\"This file doesnt exist\")"
   ]
  },
  {
   "cell_type": "code",
   "execution_count": 7,
   "id": "a6a735f4",
   "metadata": {},
   "outputs": [],
   "source": [
    "with open (\"Non-existing file\", \"a\") as file:\n",
    "    file.write(\" This text is written in append mode\")"
   ]
  },
  {
   "cell_type": "markdown",
   "id": "d89685e2",
   "metadata": {},
   "source": [
    "# r+ mode , w+ mode"
   ]
  },
  {
   "cell_type": "code",
   "execution_count": 8,
   "id": "e8cddc25",
   "metadata": {},
   "outputs": [
    {
     "name": "stdout",
     "output_type": "stream",
     "text": [
      " we are writing using w+\n"
     ]
    }
   ],
   "source": [
    "with open (\"myNewfile.txt\", \"w+\") as file:\n",
    "    file.write(\" we are writing using w+\")\n",
    "    \n",
    "    file.seek(0)\n",
    "    print(file.read())\n",
    "    "
   ]
  },
  {
   "cell_type": "code",
   "execution_count": 9,
   "id": "f2c9c55d",
   "metadata": {},
   "outputs": [
    {
     "name": "stdout",
     "output_type": "stream",
     "text": [
      " we are writing using r+ we are writing using r+ we are writing using r+ we are writing using r+\n"
     ]
    }
   ],
   "source": [
    "with open (\"myNewfile.txt\", \"r+\") as file:\n",
    "    file.write(\" we are writing using r+\")\n",
    "    file.write(\" we are writing using r+\")\n",
    "    file.write(\" we are writing using r+\")\n",
    "    file.write(\" we are writing using r+\")\n",
    "    file.seek(0)\n",
    "    print(file.read())"
   ]
  },
  {
   "cell_type": "code",
   "execution_count": 10,
   "id": "0a43c756",
   "metadata": {},
   "outputs": [
    {
     "ename": "FileNotFoundError",
     "evalue": "[Errno 2] No such file or directory: 'myNewfile2.txt'",
     "output_type": "error",
     "traceback": [
      "\u001b[1;31m---------------------------------------------------------------------------\u001b[0m",
      "\u001b[1;31mFileNotFoundError\u001b[0m                         Traceback (most recent call last)",
      "\u001b[1;32m~\\AppData\\Local\\Temp/ipykernel_22764/606035400.py\u001b[0m in \u001b[0;36m<module>\u001b[1;34m\u001b[0m\n\u001b[1;32m----> 1\u001b[1;33m \u001b[1;32mwith\u001b[0m \u001b[0mopen\u001b[0m \u001b[1;33m(\u001b[0m\u001b[1;34m\"myNewfile2.txt\"\u001b[0m\u001b[1;33m,\u001b[0m \u001b[1;34m\"r+\"\u001b[0m\u001b[1;33m)\u001b[0m \u001b[1;32mas\u001b[0m \u001b[0mfile\u001b[0m\u001b[1;33m:\u001b[0m\u001b[1;33m\u001b[0m\u001b[1;33m\u001b[0m\u001b[0m\n\u001b[0m\u001b[0;32m      2\u001b[0m     \u001b[0mfile\u001b[0m\u001b[1;33m.\u001b[0m\u001b[0mwrite\u001b[0m\u001b[1;33m(\u001b[0m\u001b[1;34m\" we are writing using r+\"\u001b[0m\u001b[1;33m)\u001b[0m\u001b[1;33m\u001b[0m\u001b[1;33m\u001b[0m\u001b[0m\n\u001b[0;32m      3\u001b[0m     \u001b[0mfile\u001b[0m\u001b[1;33m.\u001b[0m\u001b[0mwrite\u001b[0m\u001b[1;33m(\u001b[0m\u001b[1;34m\" we are writing using r+\"\u001b[0m\u001b[1;33m)\u001b[0m\u001b[1;33m\u001b[0m\u001b[1;33m\u001b[0m\u001b[0m\n\u001b[0;32m      4\u001b[0m     \u001b[0mfile\u001b[0m\u001b[1;33m.\u001b[0m\u001b[0mwrite\u001b[0m\u001b[1;33m(\u001b[0m\u001b[1;34m\" we are writing using r+\"\u001b[0m\u001b[1;33m)\u001b[0m\u001b[1;33m\u001b[0m\u001b[1;33m\u001b[0m\u001b[0m\n\u001b[0;32m      5\u001b[0m     \u001b[0mfile\u001b[0m\u001b[1;33m.\u001b[0m\u001b[0mwrite\u001b[0m\u001b[1;33m(\u001b[0m\u001b[1;34m\" we are writing using r+\"\u001b[0m\u001b[1;33m)\u001b[0m\u001b[1;33m\u001b[0m\u001b[1;33m\u001b[0m\u001b[0m\n",
      "\u001b[1;31mFileNotFoundError\u001b[0m: [Errno 2] No such file or directory: 'myNewfile2.txt'"
     ]
    }
   ],
   "source": [
    "with open (\"myNewfile2.txt\", \"r+\") as file:\n",
    "    file.write(\" we are writing using r+\")\n",
    "    file.write(\" we are writing using r+\")\n",
    "    file.write(\" we are writing using r+\")\n",
    "    file.write(\" we are writing using r+\")\n",
    "    file.seek(0)\n",
    "    print(file.read())"
   ]
  },
  {
   "cell_type": "code",
   "execution_count": 11,
   "id": "dc0d204a",
   "metadata": {},
   "outputs": [],
   "source": [
    "# r and r+ cannot create files, the file should be created first then we can read or write from it\n",
    "# w and w+ can create the file if is not already created and w+ can also read the file whereas w cannot read file"
   ]
  },
  {
   "cell_type": "code",
   "execution_count": null,
   "id": "5a978174",
   "metadata": {},
   "outputs": [],
   "source": []
  }
 ],
 "metadata": {
  "kernelspec": {
   "display_name": "Python 3 (ipykernel)",
   "language": "python",
   "name": "python3"
  },
  "language_info": {
   "codemirror_mode": {
    "name": "ipython",
    "version": 3
   },
   "file_extension": ".py",
   "mimetype": "text/x-python",
   "name": "python",
   "nbconvert_exporter": "python",
   "pygments_lexer": "ipython3",
   "version": "3.9.7"
  }
 },
 "nbformat": 4,
 "nbformat_minor": 5
}
