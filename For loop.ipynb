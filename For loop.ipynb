{
 "cells": [
  {
   "cell_type": "code",
   "execution_count": 2,
   "id": "ea0d8544",
   "metadata": {},
   "outputs": [
    {
     "name": "stdout",
     "output_type": "stream",
     "text": [
      "hello python\n",
      "hello python\n",
      "hello python\n",
      "hello python\n",
      "hello python\n",
      "hello python\n",
      "hello python\n",
      "hello python\n",
      "hello python\n",
      "hello python\n"
     ]
    }
   ],
   "source": [
    "for a in range(10):\n",
    "    print(\"hello python\")\n"
   ]
  },
  {
   "cell_type": "code",
   "execution_count": 4,
   "id": "2860e98c",
   "metadata": {},
   "outputs": [
    {
     "name": "stdout",
     "output_type": "stream",
     "text": [
      "0 hello python\n",
      "1 hello python\n",
      "2 hello python\n",
      "3 hello python\n",
      "4 hello python\n"
     ]
    }
   ],
   "source": [
    "for a in range(5):                    # first the value 0 comes in a and print hello python and so on till 4\n",
    "    print(a ,\"hello python\")          # (0 , 1 , 2 , 3 , 4)"
   ]
  },
  {
   "cell_type": "code",
   "execution_count": 5,
   "id": "aa336d17",
   "metadata": {},
   "outputs": [
    {
     "name": "stdout",
     "output_type": "stream",
     "text": [
      "0\n",
      "1\n",
      "2\n",
      "3\n",
      "4\n"
     ]
    }
   ],
   "source": [
    "for number in range(5):               # only ending point is declared which is 5\n",
    "    print(number)"
   ]
  },
  {
   "cell_type": "code",
   "execution_count": 6,
   "id": "10204d35",
   "metadata": {},
   "outputs": [
    {
     "name": "stdout",
     "output_type": "stream",
     "text": [
      "1\n",
      "2\n",
      "3\n",
      "4\n",
      "5\n",
      "6\n",
      "7\n",
      "8\n",
      "9\n"
     ]
    }
   ],
   "source": [
    "for number in range(1,10):             # starting and ending point is declared which is 1 and 5 respectively\n",
    "    print(number)"
   ]
  },
  {
   "cell_type": "code",
   "execution_count": 7,
   "id": "80638c84",
   "metadata": {},
   "outputs": [
    {
     "name": "stdout",
     "output_type": "stream",
     "text": [
      "1\n",
      "4\n",
      "7\n"
     ]
    }
   ],
   "source": [
    "for number in range(1,10,3):           # 3 steps declared in the 3rd parameter value\n",
    "    print(number)"
   ]
  },
  {
   "cell_type": "code",
   "execution_count": 8,
   "id": "98846d3a",
   "metadata": {},
   "outputs": [
    {
     "name": "stdout",
     "output_type": "stream",
     "text": [
      "10\n",
      "8\n",
      "6\n",
      "4\n",
      "2\n"
     ]
    }
   ],
   "source": [
    "for number in range(10,1,-2):           # reverse order of for loop using steps\n",
    "    print(number)"
   ]
  },
  {
   "cell_type": "code",
   "execution_count": 12,
   "id": "1cce6772",
   "metadata": {},
   "outputs": [
    {
     "data": {
      "text/plain": [
       "(1, 2, 3, 4, 5, 6, 7)"
      ]
     },
     "execution_count": 12,
     "metadata": {},
     "output_type": "execute_result"
    }
   ],
   "source": [
    "numbers = (1,2,3,4,5,6,7)\n",
    "numbers"
   ]
  },
  {
   "cell_type": "code",
   "execution_count": 13,
   "id": "d3d2b562",
   "metadata": {},
   "outputs": [
    {
     "name": "stdout",
     "output_type": "stream",
     "text": [
      "the flow of numbers is (1, 2, 3, 4, 5, 6, 7)\n",
      "the flow of numbers is (1, 2, 3, 4, 5, 6, 7)\n",
      "the flow of numbers is (1, 2, 3, 4, 5, 6, 7)\n",
      "the flow of numbers is (1, 2, 3, 4, 5, 6, 7)\n",
      "the flow of numbers is (1, 2, 3, 4, 5, 6, 7)\n",
      "the flow of numbers is (1, 2, 3, 4, 5, 6, 7)\n",
      "the flow of numbers is (1, 2, 3, 4, 5, 6, 7)\n"
     ]
    }
   ],
   "source": [
    "for num in numbers:\n",
    "    print(f\"the flow of numbers is {numbers}\")"
   ]
  },
  {
   "cell_type": "code",
   "execution_count": 14,
   "id": "73975654",
   "metadata": {},
   "outputs": [
    {
     "name": "stdout",
     "output_type": "stream",
     "text": [
      "11\n",
      "22\n",
      "33\n",
      "44\n",
      "55\n"
     ]
    }
   ],
   "source": [
    "for number in [11,22,33,44,55]:\n",
    "    print(number)"
   ]
  },
  {
   "cell_type": "code",
   "execution_count": 15,
   "id": "f83dcb52",
   "metadata": {},
   "outputs": [
    {
     "name": "stdout",
     "output_type": "stream",
     "text": [
      "P\n",
      "a\n",
      "k\n",
      "i\n",
      "s\n",
      "t\n",
      "a\n",
      "n\n"
     ]
    }
   ],
   "source": [
    "country = \"Pakistan\"            # when a single string is given, it loops every single alphabet\n",
    "for char in country:\n",
    "    print (char)"
   ]
  },
  {
   "cell_type": "code",
   "execution_count": 16,
   "id": "1e9c6a85",
   "metadata": {},
   "outputs": [
    {
     "name": "stdout",
     "output_type": "stream",
     "text": [
      "Pakistan\n",
      "USA\n"
     ]
    }
   ],
   "source": [
    "country = \"Pakistan\",\"USA\"       # when more than 1 strings is given it acts as tuples and prints both strings\n",
    "for char in country:\n",
    "    print (char)"
   ]
  },
  {
   "cell_type": "code",
   "execution_count": 19,
   "id": "bb161f81",
   "metadata": {},
   "outputs": [
    {
     "name": "stdout",
     "output_type": "stream",
     "text": [
      "0\n"
     ]
    }
   ],
   "source": [
    "for number in range(10):            # jesehi 1 ayega wo 3 se divide nhi hoga aur remainder 1 ayega aur break hojaega\n",
    "    if number%3==1:\n",
    "        break\n",
    "    print (number)"
   ]
  },
  {
   "cell_type": "code",
   "execution_count": 21,
   "id": "ec6453fc",
   "metadata": {},
   "outputs": [],
   "source": [
    "for number in range(10):                # 0 aya aur break hogya\n",
    "    if number%3==0:\n",
    "        break\n",
    "    print (number)"
   ]
  },
  {
   "cell_type": "code",
   "execution_count": 22,
   "id": "413ca14e",
   "metadata": {},
   "outputs": [
    {
     "name": "stdout",
     "output_type": "stream",
     "text": [
      "0\n"
     ]
    }
   ],
   "source": [
    "for number in range(10):                # 0 k baad 1 aya aur break hogya\n",
    "    if number%3!=0:\n",
    "        break\n",
    "    print (number)"
   ]
  },
  {
   "cell_type": "code",
   "execution_count": 30,
   "id": "77fcdcf0",
   "metadata": {},
   "outputs": [
    {
     "name": "stdout",
     "output_type": "stream",
     "text": [
      "5\n",
      "7\n",
      "11\n"
     ]
    }
   ],
   "source": [
    "for number in [5,7,11,90]:             # (%)modulus divides and here remainder should come 0\n",
    "    if number%2==0:                    # means it checks whether 5 divides by 2 and its remainder comes 0 which is false \n",
    "        break                          # it breaks only on the value 90 given in the list when the remainder comes 0S\n",
    "    print(number)"
   ]
  },
  {
   "cell_type": "code",
   "execution_count": 31,
   "id": "4f39113e",
   "metadata": {},
   "outputs": [
    {
     "name": "stdout",
     "output_type": "stream",
     "text": [
      "0\n",
      "1\n",
      "2\n",
      "3\n",
      "4\n",
      "5\n",
      "6\n",
      "8\n",
      "9\n"
     ]
    }
   ],
   "source": [
    "for num in range(10):                     #continue keyword skips the value declared assigned like 7 here\n",
    "    if num==7:\n",
    "        continue\n",
    "    print(num)"
   ]
  },
  {
   "cell_type": "code",
   "execution_count": 32,
   "id": "559eeaf2",
   "metadata": {},
   "outputs": [
    {
     "name": "stdout",
     "output_type": "stream",
     "text": [
      "0\n",
      "1\n",
      "2\n",
      "3\n",
      "5\n",
      "6\n",
      "8\n",
      "9\n"
     ]
    }
   ],
   "source": [
    "for num in range(10):                      #continue keyword used for two values here 7 and 4 here which is skipped\n",
    "    if num==7 or num==4:\n",
    "        continue\n",
    "    print(num)"
   ]
  },
  {
   "cell_type": "markdown",
   "id": "bc98b3f9",
   "metadata": {},
   "source": [
    "# PRACTICE "
   ]
  },
  {
   "cell_type": "code",
   "execution_count": 4,
   "id": "f2cc2163",
   "metadata": {},
   "outputs": [
    {
     "name": "stdout",
     "output_type": "stream",
     "text": [
      "0\n",
      "1\n",
      "2\n",
      "3\n",
      "5\n"
     ]
    }
   ],
   "source": [
    "for num in range(6):\n",
    "    if num==4 or num==4:\n",
    "        continue\n",
    "    print(num)"
   ]
  },
  {
   "cell_type": "code",
   "execution_count": null,
   "id": "ebd68e61",
   "metadata": {},
   "outputs": [],
   "source": []
  }
 ],
 "metadata": {
  "kernelspec": {
   "display_name": "Python 3 (ipykernel)",
   "language": "python",
   "name": "python3"
  },
  "language_info": {
   "codemirror_mode": {
    "name": "ipython",
    "version": 3
   },
   "file_extension": ".py",
   "mimetype": "text/x-python",
   "name": "python",
   "nbconvert_exporter": "python",
   "pygments_lexer": "ipython3",
   "version": "3.9.7"
  }
 },
 "nbformat": 4,
 "nbformat_minor": 5
}
