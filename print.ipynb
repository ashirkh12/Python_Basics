{
 "cells": [
  {
   "cell_type": "code",
   "execution_count": 1,
   "id": "734740e3",
   "metadata": {},
   "outputs": [
    {
     "name": "stdout",
     "output_type": "stream",
     "text": [
      "1000\n"
     ]
    }
   ],
   "source": [
    "print(1000)\n"
   ]
  },
  {
   "cell_type": "code",
   "execution_count": 2,
   "id": "136d78c9",
   "metadata": {},
   "outputs": [
    {
     "name": "stdout",
     "output_type": "stream",
     "text": [
      "100 200\n"
     ]
    }
   ],
   "source": [
    "print(100,200)"
   ]
  },
  {
   "cell_type": "code",
   "execution_count": 3,
   "id": "a235db4c",
   "metadata": {},
   "outputs": [
    {
     "name": "stdout",
     "output_type": "stream",
     "text": [
      "\n"
     ]
    }
   ],
   "source": [
    "print()"
   ]
  },
  {
   "cell_type": "code",
   "execution_count": 4,
   "id": "24c6fe5e",
   "metadata": {},
   "outputs": [
    {
     "name": "stdout",
     "output_type": "stream",
     "text": [
      "123.56\n"
     ]
    }
   ],
   "source": [
    "print(123.56)"
   ]
  },
  {
   "cell_type": "code",
   "execution_count": 5,
   "id": "ce45612f",
   "metadata": {},
   "outputs": [
    {
     "name": "stdout",
     "output_type": "stream",
     "text": [
      "hello world\n"
     ]
    }
   ],
   "source": [
    "print(\"hello world\")"
   ]
  },
  {
   "cell_type": "code",
   "execution_count": 6,
   "id": "5a18afe9",
   "metadata": {},
   "outputs": [
    {
     "name": "stdout",
     "output_type": "stream",
     "text": [
      "to comment\n"
     ]
    }
   ],
   "source": [
    "print(\"to comment\") # comment"
   ]
  },
  {
   "cell_type": "code",
   "execution_count": 7,
   "id": "3bfa8056",
   "metadata": {},
   "outputs": [
    {
     "name": "stdout",
     "output_type": "stream",
     "text": [
      "123python\n"
     ]
    }
   ],
   "source": [
    "print(\"123python\") #alphanumeric data"
   ]
  },
  {
   "cell_type": "code",
   "execution_count": 1,
   "id": "2735d76d",
   "metadata": {},
   "outputs": [
    {
     "name": "stdout",
     "output_type": "stream",
     "text": [
      "\n"
     ]
    }
   ],
   "source": [
    "print() # pointing cursor in between brackets then shift tab to show the signature of the function\n"
   ]
  },
  {
   "cell_type": "code",
   "execution_count": 2,
   "id": "05f93401",
   "metadata": {},
   "outputs": [
    {
     "name": "stdout",
     "output_type": "stream",
     "text": [
      "hello pythonlearning python\n"
     ]
    }
   ],
   "source": [
    "print(\"hello python\",\"learning python\",sep=(\"\")) #sep is a function used for seperation between two valuesprin"
   ]
  },
  {
   "cell_type": "code",
   "execution_count": 3,
   "id": "29ca574f",
   "metadata": {},
   "outputs": [
    {
     "name": "stdout",
     "output_type": "stream",
     "text": [
      "hello world hello python"
     ]
    }
   ],
   "source": [
    "print('hello world','hello python',end=('')) #end function is used to print string in the same line"
   ]
  },
  {
   "cell_type": "code",
   "execution_count": 14,
   "id": "116834f0",
   "metadata": {},
   "outputs": [
    {
     "name": "stdout",
     "output_type": "stream",
     "text": [
      "helloo world\tiam batman\n",
      "iam superman\n"
     ]
    }
   ],
   "source": [
    "print(\"helloo world\", end=\"\\t\")#Escape characters \\t and \\n used to leave space and used to print text in next line respectively\n",
    "print(\"iam batman\", end=\"\\n\")\n",
    "print(\"iam superman\")"
   ]
  },
  {
   "cell_type": "code",
   "execution_count": null,
   "id": "960597df",
   "metadata": {},
   "outputs": [],
   "source": []
  }
 ],
 "metadata": {
  "kernelspec": {
   "display_name": "Python 3 (ipykernel)",
   "language": "python",
   "name": "python3"
  },
  "language_info": {
   "codemirror_mode": {
    "name": "ipython",
    "version": 3
   },
   "file_extension": ".py",
   "mimetype": "text/x-python",
   "name": "python",
   "nbconvert_exporter": "python",
   "pygments_lexer": "ipython3",
   "version": "3.9.7"
  }
 },
 "nbformat": 4,
 "nbformat_minor": 5
}
