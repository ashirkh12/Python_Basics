{
 "cells": [
  {
   "cell_type": "code",
   "execution_count": 2,
   "id": "44dd329b",
   "metadata": {},
   "outputs": [
    {
     "name": "stdout",
     "output_type": "stream",
     "text": [
      "Enter username:ashir\n",
      "The username is ashir\n"
     ]
    }
   ],
   "source": [
    "username=input(\"Enter username:\")\n",
    "print(\"The username is \" + username)"
   ]
  },
  {
   "cell_type": "code",
   "execution_count": 10,
   "id": "56b7b224",
   "metadata": {},
   "outputs": [
    {
     "name": "stdout",
     "output_type": "stream",
     "text": [
      "Enter 1st value 20\n",
      "Enter 2nd value 21\n",
      "The sum is  41\n"
     ]
    }
   ],
   "source": [
    "a=int(input(\"Enter 1st value \"))\n",
    "b=int(input(\"Enter 2nd value \"))\n",
    "c=a+b\n",
    "print(\"The sum is \", c)\n",
    "#program to calculate sum by taking user input"
   ]
  },
  {
   "cell_type": "code",
   "execution_count": 12,
   "id": "a90eed9c",
   "metadata": {},
   "outputs": [
    {
     "name": "stdout",
     "output_type": "stream",
     "text": [
      "enter first input 21\n",
      "enter second input 32\n",
      "the result is  -11\n"
     ]
    }
   ],
   "source": [
    "a=int(input(\"enter first input \"))\n",
    "b=int(input(\"enter second input \"))\n",
    "sub=a-b\n",
    "print(\"the result is \",sub)\n",
    "#program to calculate subtraction by taking user inputS"
   ]
  },
  {
   "cell_type": "code",
   "execution_count": null,
   "id": "a29cd1a0",
   "metadata": {},
   "outputs": [],
   "source": []
  }
 ],
 "metadata": {
  "kernelspec": {
   "display_name": "Python 3 (ipykernel)",
   "language": "python",
   "name": "python3"
  },
  "language_info": {
   "codemirror_mode": {
    "name": "ipython",
    "version": 3
   },
   "file_extension": ".py",
   "mimetype": "text/x-python",
   "name": "python",
   "nbconvert_exporter": "python",
   "pygments_lexer": "ipython3",
   "version": "3.9.7"
  }
 },
 "nbformat": 4,
 "nbformat_minor": 5
}
