{
 "cells": [
  {
   "cell_type": "code",
   "execution_count": 2,
   "id": "e8ec7161",
   "metadata": {},
   "outputs": [],
   "source": [
    "# define a class"
   ]
  },
  {
   "cell_type": "code",
   "execution_count": 62,
   "id": "6b60778e",
   "metadata": {},
   "outputs": [],
   "source": [
    "class car():\n",
    "    #attributes >>>>> are variables in programming\n",
    "    def __init__(self,make,model,year):\n",
    "        self.make = make\n",
    "        self.model = model\n",
    "        self.year = year\n",
    "        self.battery = \"200amp\"      # default attribute\n",
    "    ###############################################\n",
    "    # behaviours >>>>> are functions in programming\n",
    "    ###############################################\n",
    "    def descriptionCar(self):\n",
    "        print(f\"The make of the car is {self.make}\")\n",
    "        print(f\"The model of the car is {self.model}\")\n",
    "        print(f\"The year of the car is {self.year}\")\n",
    "    def move(self):\n",
    "        print(f\"{self.make} is moving with speed\")\n",
    "    def applyingBreak(self):\n",
    "        print(f\"{self.model} has applied the break\")\n",
    "    def desbattery(self):            # describe battery\n",
    "        print(f\"The battery of car is {self.battery}\")\n",
    "    def setbatterySize(self,newSize):\n",
    "        self.battery = newSize\n",
    "    def getBatterySize(self):\n",
    "        print(f\" The size of your car's battery is {self.battery}\")\n"
   ]
  },
  {
   "cell_type": "code",
   "execution_count": 63,
   "id": "5dfd5081",
   "metadata": {},
   "outputs": [],
   "source": [
    "# Object Creation\n",
    "car1 = car(\"Honda\" , \"Civic\" , \"2019\")"
   ]
  },
  {
   "cell_type": "code",
   "execution_count": 64,
   "id": "6b7400ba",
   "metadata": {},
   "outputs": [],
   "source": [
    "car2 = car(\"Toyota\" , \"Corolla\" , \"2017\")"
   ]
  },
  {
   "cell_type": "code",
   "execution_count": 65,
   "id": "4898ef34",
   "metadata": {},
   "outputs": [
    {
     "data": {
      "text/plain": [
       "'Honda'"
      ]
     },
     "execution_count": 65,
     "metadata": {},
     "output_type": "execute_result"
    }
   ],
   "source": [
    "car1.make"
   ]
  },
  {
   "cell_type": "code",
   "execution_count": 66,
   "id": "bf7b33ee",
   "metadata": {},
   "outputs": [
    {
     "data": {
      "text/plain": [
       "'Toyota'"
      ]
     },
     "execution_count": 66,
     "metadata": {},
     "output_type": "execute_result"
    }
   ],
   "source": [
    "car2.make"
   ]
  },
  {
   "cell_type": "code",
   "execution_count": 67,
   "id": "661efe3b",
   "metadata": {},
   "outputs": [
    {
     "name": "stdout",
     "output_type": "stream",
     "text": [
      "The make of the car is Toyota\n",
      "The model of the car is Corolla\n",
      "The year of the car is 2017\n"
     ]
    }
   ],
   "source": [
    "car2.descriptionCar()"
   ]
  },
  {
   "cell_type": "markdown",
   "id": "4a77d66b",
   "metadata": {},
   "source": [
    "# Changing an attributes value"
   ]
  },
  {
   "cell_type": "code",
   "execution_count": null,
   "id": "d0b66fa6",
   "metadata": {},
   "outputs": [],
   "source": [
    "#1 Changing by Direct hitting the attribute\n",
    "#2 via function (get, set)"
   ]
  },
  {
   "cell_type": "code",
   "execution_count": 68,
   "id": "4451bfa8",
   "metadata": {},
   "outputs": [
    {
     "data": {
      "text/plain": [
       "'Honda'"
      ]
     },
     "execution_count": 68,
     "metadata": {},
     "output_type": "execute_result"
    }
   ],
   "source": [
    "car1.make"
   ]
  },
  {
   "cell_type": "code",
   "execution_count": 69,
   "id": "cf53f618",
   "metadata": {},
   "outputs": [],
   "source": [
    "car1.make=\"Yamaha\""
   ]
  },
  {
   "cell_type": "code",
   "execution_count": 70,
   "id": "02d2f557",
   "metadata": {},
   "outputs": [
    {
     "data": {
      "text/plain": [
       "'Yamaha'"
      ]
     },
     "execution_count": 70,
     "metadata": {},
     "output_type": "execute_result"
    }
   ],
   "source": [
    "car1.make"
   ]
  },
  {
   "cell_type": "code",
   "execution_count": 71,
   "id": "06ace4d1",
   "metadata": {},
   "outputs": [
    {
     "data": {
      "text/plain": [
       "'200amp'"
      ]
     },
     "execution_count": 71,
     "metadata": {},
     "output_type": "execute_result"
    }
   ],
   "source": [
    "car1.battery"
   ]
  },
  {
   "cell_type": "code",
   "execution_count": 72,
   "id": "a5dc4984",
   "metadata": {},
   "outputs": [
    {
     "data": {
      "text/plain": [
       "'200amp'"
      ]
     },
     "execution_count": 72,
     "metadata": {},
     "output_type": "execute_result"
    }
   ],
   "source": [
    "car2.battery"
   ]
  },
  {
   "cell_type": "code",
   "execution_count": 73,
   "id": "fb218101",
   "metadata": {},
   "outputs": [],
   "source": [
    "car1.battery = \"300amp\""
   ]
  },
  {
   "cell_type": "code",
   "execution_count": 74,
   "id": "24c739b0",
   "metadata": {},
   "outputs": [
    {
     "data": {
      "text/plain": [
       "'300amp'"
      ]
     },
     "execution_count": 74,
     "metadata": {},
     "output_type": "execute_result"
    }
   ],
   "source": [
    "car1.battery"
   ]
  },
  {
   "cell_type": "code",
   "execution_count": 75,
   "id": "07f7de82",
   "metadata": {},
   "outputs": [
    {
     "data": {
      "text/plain": [
       "'200amp'"
      ]
     },
     "execution_count": 75,
     "metadata": {},
     "output_type": "execute_result"
    }
   ],
   "source": [
    "car2.battery"
   ]
  },
  {
   "cell_type": "markdown",
   "id": "7366a143",
   "metadata": {},
   "source": [
    "# Changing attributes value via functions"
   ]
  },
  {
   "cell_type": "code",
   "execution_count": 76,
   "id": "e0f030a2",
   "metadata": {},
   "outputs": [
    {
     "name": "stdout",
     "output_type": "stream",
     "text": [
      " The size of your car's battery is 300amp\n"
     ]
    }
   ],
   "source": [
    "car1.getBatterySize()"
   ]
  },
  {
   "cell_type": "code",
   "execution_count": 77,
   "id": "c62b8911",
   "metadata": {},
   "outputs": [
    {
     "name": "stdout",
     "output_type": "stream",
     "text": [
      " The size of your car's battery is 200amp\n"
     ]
    }
   ],
   "source": [
    "car2.getBatterySize()"
   ]
  },
  {
   "cell_type": "code",
   "execution_count": 80,
   "id": "d9f349db",
   "metadata": {},
   "outputs": [],
   "source": [
    "car2.setbatterySize(\"500amp\")"
   ]
  },
  {
   "cell_type": "code",
   "execution_count": 83,
   "id": "94f21d61",
   "metadata": {},
   "outputs": [
    {
     "name": "stdout",
     "output_type": "stream",
     "text": [
      " The size of your car's battery is 500amp\n"
     ]
    }
   ],
   "source": [
    "car2.getBatterySize()"
   ]
  },
  {
   "cell_type": "code",
   "execution_count": null,
   "id": "f4c1850e",
   "metadata": {},
   "outputs": [],
   "source": []
  },
  {
   "cell_type": "code",
   "execution_count": null,
   "id": "145cc362",
   "metadata": {},
   "outputs": [],
   "source": []
  }
 ],
 "metadata": {
  "kernelspec": {
   "display_name": "Python 3 (ipykernel)",
   "language": "python",
   "name": "python3"
  },
  "language_info": {
   "codemirror_mode": {
    "name": "ipython",
    "version": 3
   },
   "file_extension": ".py",
   "mimetype": "text/x-python",
   "name": "python",
   "nbconvert_exporter": "python",
   "pygments_lexer": "ipython3",
   "version": "3.9.7"
  }
 },
 "nbformat": 4,
 "nbformat_minor": 5
}
