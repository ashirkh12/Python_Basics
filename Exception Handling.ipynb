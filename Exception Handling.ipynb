{
 "cells": [
  {
   "cell_type": "code",
   "execution_count": 1,
   "id": "be570b72",
   "metadata": {},
   "outputs": [],
   "source": [
    "# Exception are run time errors\n",
    "# Compile Time error are syntax error"
   ]
  },
  {
   "cell_type": "code",
   "execution_count": 6,
   "id": "fdb20829",
   "metadata": {},
   "outputs": [
    {
     "name": "stdout",
     "output_type": "stream",
     "text": [
      "enter a number6\n",
      "enter another number3\n",
      "2.0\n",
      "finally will always run\n"
     ]
    }
   ],
   "source": [
    "try:\n",
    "    value1 = int(input(\"enter a number\"))\n",
    "    value2 = int(input(\"enter another number\"))\n",
    "    \n",
    "    ans = value1/value2\n",
    "    \n",
    "except exception as e:\n",
    "    print(f\"exception handled >> {(e)} \")\n",
    "\n",
    "else:\n",
    "    # if no exception is generated else block will execute\n",
    "    print(ans)\n",
    "    \n",
    "finally:\n",
    "    print(\"finally will always run\")"
   ]
  },
  {
   "cell_type": "code",
   "execution_count": 7,
   "id": "97959ec4",
   "metadata": {},
   "outputs": [
    {
     "name": "stdout",
     "output_type": "stream",
     "text": [
      "Exception Caught\n",
      "finally will always run\n"
     ]
    }
   ],
   "source": [
    "a = []\n",
    "try:\n",
    "    5/0\n",
    "    c= a[3]\n",
    "except:\n",
    "    print(\"Exception Caught\")\n",
    "else:\n",
    "    print(\"no exception\")\n",
    "finally:\n",
    "    print(\"finally will always run\")"
   ]
  },
  {
   "cell_type": "code",
   "execution_count": 8,
   "id": "6691d941",
   "metadata": {},
   "outputs": [
    {
     "name": "stdout",
     "output_type": "stream",
     "text": [
      "finally will always run\n"
     ]
    },
    {
     "ename": "IndexError",
     "evalue": "list index out of range",
     "output_type": "error",
     "traceback": [
      "\u001b[1;31m---------------------------------------------------------------------------\u001b[0m",
      "\u001b[1;31mIndexError\u001b[0m                                Traceback (most recent call last)",
      "\u001b[1;32m~\\AppData\\Local\\Temp/ipykernel_19536/1356599676.py\u001b[0m in \u001b[0;36m<module>\u001b[1;34m\u001b[0m\n\u001b[0;32m      2\u001b[0m \u001b[1;32mtry\u001b[0m\u001b[1;33m:\u001b[0m\u001b[1;33m\u001b[0m\u001b[1;33m\u001b[0m\u001b[0m\n\u001b[0;32m      3\u001b[0m     \u001b[1;36m5\u001b[0m\u001b[1;33m/\u001b[0m\u001b[1;36m5\u001b[0m\u001b[1;33m\u001b[0m\u001b[1;33m\u001b[0m\u001b[0m\n\u001b[1;32m----> 4\u001b[1;33m     \u001b[0mc\u001b[0m\u001b[1;33m=\u001b[0m \u001b[0ma\u001b[0m\u001b[1;33m[\u001b[0m\u001b[1;36m3\u001b[0m\u001b[1;33m]\u001b[0m\u001b[1;33m\u001b[0m\u001b[1;33m\u001b[0m\u001b[0m\n\u001b[0m\u001b[0;32m      5\u001b[0m \u001b[1;32mexcept\u001b[0m \u001b[0mZeroDivisionError\u001b[0m\u001b[1;33m:\u001b[0m\u001b[1;33m\u001b[0m\u001b[1;33m\u001b[0m\u001b[0m\n\u001b[0;32m      6\u001b[0m     \u001b[0mprint\u001b[0m\u001b[1;33m(\u001b[0m\u001b[1;34m\"Exception Caught\"\u001b[0m\u001b[1;33m)\u001b[0m\u001b[1;33m\u001b[0m\u001b[1;33m\u001b[0m\u001b[0m\n",
      "\u001b[1;31mIndexError\u001b[0m: list index out of range"
     ]
    }
   ],
   "source": [
    "a = []\n",
    "try:\n",
    "    5/5\n",
    "    c= a[3]\n",
    "except ZeroDivisionError:\n",
    "    print(\"Exception Caught\")\n",
    "else:\n",
    "    print(\"no exception\")\n",
    "finally:\n",
    "    print(\"finally will always run\")"
   ]
  },
  {
   "cell_type": "code",
   "execution_count": null,
   "id": "db390669",
   "metadata": {},
   "outputs": [],
   "source": []
  }
 ],
 "metadata": {
  "kernelspec": {
   "display_name": "Python 3 (ipykernel)",
   "language": "python",
   "name": "python3"
  },
  "language_info": {
   "codemirror_mode": {
    "name": "ipython",
    "version": 3
   },
   "file_extension": ".py",
   "mimetype": "text/x-python",
   "name": "python",
   "nbconvert_exporter": "python",
   "pygments_lexer": "ipython3",
   "version": "3.9.7"
  }
 },
 "nbformat": 4,
 "nbformat_minor": 5
}
