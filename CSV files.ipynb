{
 "cells": [
  {
   "cell_type": "code",
   "execution_count": null,
   "id": "8f11c55e",
   "metadata": {},
   "outputs": [],
   "source": [
    "# Comma Seperated Values File"
   ]
  },
  {
   "cell_type": "code",
   "execution_count": 1,
   "id": "c143ba21",
   "metadata": {},
   "outputs": [],
   "source": [
    "import csv"
   ]
  },
  {
   "cell_type": "code",
   "execution_count": null,
   "id": "fc0f83e2",
   "metadata": {},
   "outputs": [],
   "source": [
    "# Reading data from a CSV file"
   ]
  },
  {
   "cell_type": "code",
   "execution_count": 2,
   "id": "bdecfe0e",
   "metadata": {},
   "outputs": [
    {
     "name": "stdout",
     "output_type": "stream",
     "text": [
      "<_csv.reader object at 0x000001CF56E03A60>\n"
     ]
    }
   ],
   "source": [
    "with open (\"abc.csv\") as file:\n",
    "    contents = csv.reader(file)\n",
    "    print(contents)"
   ]
  },
  {
   "cell_type": "code",
   "execution_count": 3,
   "id": "1115db1c",
   "metadata": {},
   "outputs": [
    {
     "name": "stdout",
     "output_type": "stream",
     "text": [
      "['Year', 'Event', 'Winner']\n",
      "['1995', ' Best Kept Lawn', ' None']\n",
      "['1999', ' Gobstones', ' Welcch Nationalal']\n",
      "['2006', ' World Cup', ' Burkina Faso']\n"
     ]
    }
   ],
   "source": [
    "with open (\"abc.csv\") as file:\n",
    "    contents = csv.reader(file)\n",
    "    for content in contents:\n",
    "        print(content)"
   ]
  },
  {
   "cell_type": "code",
   "execution_count": null,
   "id": "a9171430",
   "metadata": {},
   "outputs": [],
   "source": [
    "# Writing in a CSV file"
   ]
  },
  {
   "cell_type": "code",
   "execution_count": 4,
   "id": "a747e26d",
   "metadata": {},
   "outputs": [],
   "source": [
    "with open (\"xyz.csv\", \"w\",newline=\"\") as file:\n",
    "    FileWriter = csv.writer(file)\n",
    "    FileWriter.writerow([\"2019\",\"CWC2019\",\"ENG\"])"
   ]
  },
  {
   "cell_type": "code",
   "execution_count": 5,
   "id": "b2c84556",
   "metadata": {},
   "outputs": [],
   "source": [
    "with open (\"xyz.csv\", \"w\",newline=\"\") as file:\n",
    "    FileWriter = csv.writer(file)\n",
    "    FileWriter.writerow([\"2018\",\"CWC2018\",\"ENG\"])"
   ]
  },
  {
   "cell_type": "code",
   "execution_count": 6,
   "id": "6dba05c9",
   "metadata": {},
   "outputs": [],
   "source": [
    "# Appending a CSV file"
   ]
  },
  {
   "cell_type": "code",
   "execution_count": 7,
   "id": "36f8bdaf",
   "metadata": {},
   "outputs": [],
   "source": [
    "with open (\"xyz.csv\", \"a\",newline=\"\") as file:\n",
    "    FileWriter = csv.writer(file)\n",
    "    FileWriter.writerow([\"2018\",\"CWC2018\",\"ENG\"])\n",
    "    FileWriter.writerow([\"2019\",\"CWC2018\",\"ENG\"])\n",
    "    FileWriter.writerow([\"2020\",\"CWC2018\",\"ENG\"])"
   ]
  },
  {
   "cell_type": "code",
   "execution_count": null,
   "id": "50046e17",
   "metadata": {},
   "outputs": [],
   "source": []
  }
 ],
 "metadata": {
  "kernelspec": {
   "display_name": "Python 3 (ipykernel)",
   "language": "python",
   "name": "python3"
  },
  "language_info": {
   "codemirror_mode": {
    "name": "ipython",
    "version": 3
   },
   "file_extension": ".py",
   "mimetype": "text/x-python",
   "name": "python",
   "nbconvert_exporter": "python",
   "pygments_lexer": "ipython3",
   "version": "3.9.7"
  }
 },
 "nbformat": 4,
 "nbformat_minor": 5
}
