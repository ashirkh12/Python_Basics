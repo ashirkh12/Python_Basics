{
 "cells": [
  {
   "cell_type": "code",
   "execution_count": 1,
   "id": "e89352e2",
   "metadata": {},
   "outputs": [],
   "source": [
    "def add():\n",
    "    number = int(input(\"enter 1st value\"))\n",
    "    number2 = int(input(\"enter 2nd value\"))\n",
    "    print(number + number2)"
   ]
  },
  {
   "cell_type": "code",
   "execution_count": 2,
   "id": "32ccd3f4",
   "metadata": {},
   "outputs": [
    {
     "name": "stdout",
     "output_type": "stream",
     "text": [
      "enter 1st value2\n",
      "enter 2nd value3\n",
      "5\n"
     ]
    }
   ],
   "source": [
    "add()"
   ]
  },
  {
   "cell_type": "code",
   "execution_count": 3,
   "id": "99e152ca",
   "metadata": {},
   "outputs": [
    {
     "name": "stdout",
     "output_type": "stream",
     "text": [
      "50\n"
     ]
    }
   ],
   "source": [
    "def add():       # Parameter less function\n",
    "    print(20+30)\n",
    "add()"
   ]
  },
  {
   "cell_type": "markdown",
   "id": "aa762ef4",
   "metadata": {},
   "source": [
    "# Passing information positional arguments"
   ]
  },
  {
   "cell_type": "code",
   "execution_count": 6,
   "id": "cbeaae59",
   "metadata": {},
   "outputs": [
    {
     "name": "stdout",
     "output_type": "stream",
     "text": [
      "30\n"
     ]
    }
   ],
   "source": [
    "# sequence matters in positional arguments\n",
    "def add(a,b):    # Inside those brackets, the values passed are called parameters\n",
    "    print(a+b)\n",
    "add(10,20)       # Inside those brackets, the values passed are called arguments\n",
    "    "
   ]
  },
  {
   "cell_type": "markdown",
   "id": "cd15084e",
   "metadata": {},
   "source": [
    "# Passing information keyword arguments"
   ]
  },
  {
   "cell_type": "code",
   "execution_count": 10,
   "id": "8532a2a0",
   "metadata": {},
   "outputs": [
    {
     "name": "stdout",
     "output_type": "stream",
     "text": [
      "zainulabdien\n"
     ]
    }
   ],
   "source": [
    "def fullname(middle=\"ul\", last=\"abdien\", first=\"zain\"):\n",
    "    print(first+middle+last)\n",
    "fullname()\n",
    "   "
   ]
  },
  {
   "cell_type": "markdown",
   "id": "509cb648",
   "metadata": {},
   "source": [
    "# Default Parameters"
   ]
  },
  {
   "cell_type": "code",
   "execution_count": 12,
   "id": "5e3ebadb",
   "metadata": {},
   "outputs": [
    {
     "name": "stdout",
     "output_type": "stream",
     "text": [
      "zain abdien\n"
     ]
    }
   ],
   "source": [
    "def fullname(first, last, middle=\" \"):         # default parameter used is middle which comes in the last position\n",
    "    print(first+middle+last)                   # default parameters placed in the last\n",
    "fullname(\"zain\",\"abdien\")"
   ]
  },
  {
   "cell_type": "markdown",
   "id": "e3c4c4df",
   "metadata": {},
   "source": [
    "# Dealing with Arbitrary Number of Arguments"
   ]
  },
  {
   "cell_type": "code",
   "execution_count": 1,
   "id": "aa5173e7",
   "metadata": {},
   "outputs": [],
   "source": [
    "# Parameter that deals with arbitrary arguments\n",
    "# Means the user is not sure of how many values to input, there could be one or many\n",
    "# It stores the values in the form of tuples\n",
    "def pizzaOrder(size,flavor,*toppings):  \n",
    "    print(f\"your order for pizza of size {size}, and flavor {flavor}, with toppings {toppings}\")"
   ]
  },
  {
   "cell_type": "code",
   "execution_count": 2,
   "id": "299152a2",
   "metadata": {},
   "outputs": [
    {
     "name": "stdout",
     "output_type": "stream",
     "text": [
      "your order for pizza of size 14, and flavor Chicken Tikka, with toppings ('Olives topping', 'abcd topping', 'xyz topping')\n"
     ]
    }
   ],
   "source": [
    "pizzaOrder(14,\"Chicken Tikka\",\"Olives topping\",\"abcd topping\",\"xyz topping\")"
   ]
  },
  {
   "cell_type": "markdown",
   "id": "cf3fcfa1",
   "metadata": {},
   "source": [
    "# Functions passing information back from them"
   ]
  },
  {
   "cell_type": "code",
   "execution_count": 16,
   "id": "1fd90646",
   "metadata": {},
   "outputs": [],
   "source": [
    "def add(val1,val2):\n",
    "    ans = val1 + val2\n",
    "    \n",
    "    return ans#,\"Can contain more than 1 values and stores in the form of tuples\""
   ]
  },
  {
   "cell_type": "code",
   "execution_count": 18,
   "id": "202126ef",
   "metadata": {},
   "outputs": [
    {
     "data": {
      "text/plain": [
       "6"
      ]
     },
     "execution_count": 18,
     "metadata": {},
     "output_type": "execute_result"
    }
   ],
   "source": [
    "result"
   ]
  },
  {
   "cell_type": "code",
   "execution_count": 19,
   "id": "897e590e",
   "metadata": {},
   "outputs": [
    {
     "data": {
      "text/plain": [
       "24"
      ]
     },
     "execution_count": 19,
     "metadata": {},
     "output_type": "execute_result"
    }
   ],
   "source": [
    "result*4"
   ]
  },
  {
   "cell_type": "markdown",
   "id": "be201790",
   "metadata": {},
   "source": [
    "# Using functions as variables"
   ]
  },
  {
   "cell_type": "code",
   "execution_count": 20,
   "id": "695931d3",
   "metadata": {},
   "outputs": [],
   "source": [
    "def add(a,b):\n",
    "    return a+b\n",
    "\n",
    "def sub(b,a):\n",
    "    return a-b\n",
    "\n",
    "result = add(2,3) + sub(2,3)\n",
    "# 6          5          1"
   ]
  },
  {
   "cell_type": "code",
   "execution_count": 21,
   "id": "98ef2cf8",
   "metadata": {},
   "outputs": [
    {
     "data": {
      "text/plain": [
       "6"
      ]
     },
     "execution_count": 21,
     "metadata": {},
     "output_type": "execute_result"
    }
   ],
   "source": [
    "result"
   ]
  },
  {
   "cell_type": "code",
   "execution_count": 22,
   "id": "5d418692",
   "metadata": {},
   "outputs": [],
   "source": [
    "# LOCAL VARIABLE\n",
    "def beHappy():\n",
    "    name= \"Mr A\"\n",
    "    print(f\"{name} is very happy today\")"
   ]
  },
  {
   "cell_type": "code",
   "execution_count": 24,
   "id": "c24af20a",
   "metadata": {},
   "outputs": [
    {
     "name": "stdout",
     "output_type": "stream",
     "text": [
      "Mr A is very happy today\n"
     ]
    },
    {
     "ename": "NameError",
     "evalue": "name 'name' is not defined",
     "output_type": "error",
     "traceback": [
      "\u001b[1;31m---------------------------------------------------------------------------\u001b[0m",
      "\u001b[1;31mNameError\u001b[0m                                 Traceback (most recent call last)",
      "\u001b[1;32m~\\AppData\\Local\\Temp/ipykernel_1480/1587812495.py\u001b[0m in \u001b[0;36m<module>\u001b[1;34m\u001b[0m\n\u001b[0;32m      1\u001b[0m \u001b[0mbeHappy\u001b[0m\u001b[1;33m(\u001b[0m\u001b[1;33m)\u001b[0m\u001b[1;33m\u001b[0m\u001b[1;33m\u001b[0m\u001b[0m\n\u001b[1;32m----> 2\u001b[1;33m \u001b[0mprint\u001b[0m\u001b[1;33m(\u001b[0m\u001b[0mname\u001b[0m\u001b[1;33m)\u001b[0m\u001b[1;33m\u001b[0m\u001b[1;33m\u001b[0m\u001b[0m\n\u001b[0m",
      "\u001b[1;31mNameError\u001b[0m: name 'name' is not defined"
     ]
    }
   ],
   "source": [
    "beHappy()\n",
    "print(name)"
   ]
  },
  {
   "cell_type": "code",
   "execution_count": 27,
   "id": "7447d600",
   "metadata": {},
   "outputs": [],
   "source": [
    "# GLOBAL VARIABLE\n",
    "anothername = \"Mr B\"\n",
    "def sad():\n",
    "    print(f\"{anothername} is very sad\")"
   ]
  },
  {
   "cell_type": "code",
   "execution_count": 28,
   "id": "3180f277",
   "metadata": {},
   "outputs": [
    {
     "name": "stdout",
     "output_type": "stream",
     "text": [
      "Mr B is very sad\n"
     ]
    }
   ],
   "source": [
    "sad()"
   ]
  },
  {
   "cell_type": "code",
   "execution_count": 29,
   "id": "e8e5da55",
   "metadata": {},
   "outputs": [
    {
     "name": "stdout",
     "output_type": "stream",
     "text": [
      "Mr B\n"
     ]
    }
   ],
   "source": [
    "print(anothername)"
   ]
  },
  {
   "cell_type": "markdown",
   "id": "7b40cd0e",
   "metadata": {},
   "source": [
    "# Functions within Functions"
   ]
  },
  {
   "cell_type": "code",
   "execution_count": 30,
   "id": "1272b544",
   "metadata": {},
   "outputs": [],
   "source": [
    "# Code that generates Gross Salary\n",
    "def commissioncalc(sales):\n",
    "    \n",
    "    if sales>100:\n",
    "        return sales*100\n",
    "    elif sales>50:\n",
    "        return sales*50\n",
    "    elif sales>20:\n",
    "        return sales*20\n",
    "    else:\n",
    "        return 0\n",
    "def salarycalc(basic,sales):\n",
    "    \n",
    "    grosssalary = basic + commissioncalc(sales)\n",
    "    print(f\"Your gross salary is {grosssalary}\")"
   ]
  },
  {
   "cell_type": "code",
   "execution_count": 31,
   "id": "adf17038",
   "metadata": {},
   "outputs": [
    {
     "name": "stdout",
     "output_type": "stream",
     "text": [
      "Your gross salary is 65000\n"
     ]
    }
   ],
   "source": [
    "salarycalc(50000,150)"
   ]
  },
  {
   "cell_type": "code",
   "execution_count": null,
   "id": "b30d6c7e",
   "metadata": {},
   "outputs": [],
   "source": []
  }
 ],
 "metadata": {
  "kernelspec": {
   "display_name": "Python 3 (ipykernel)",
   "language": "python",
   "name": "python3"
  },
  "language_info": {
   "codemirror_mode": {
    "name": "ipython",
    "version": 3
   },
   "file_extension": ".py",
   "mimetype": "text/x-python",
   "name": "python",
   "nbconvert_exporter": "python",
   "pygments_lexer": "ipython3",
   "version": "3.9.7"
  }
 },
 "nbformat": 4,
 "nbformat_minor": 5
}
