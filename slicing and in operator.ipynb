{
 "cells": [
  {
   "cell_type": "code",
   "execution_count": 3,
   "id": "fb6724a3",
   "metadata": {},
   "outputs": [
    {
     "data": {
      "text/plain": [
       "['multan', 'karachi', 'lahore', 'pindi']"
      ]
     },
     "execution_count": 3,
     "metadata": {},
     "output_type": "execute_result"
    }
   ],
   "source": [
    "cities=[\"multan\",\"karachi\",\"lahore\",\"pindi\"]\n",
    "cities"
   ]
  },
  {
   "cell_type": "code",
   "execution_count": 4,
   "id": "5cd204eb",
   "metadata": {},
   "outputs": [
    {
     "name": "stdout",
     "output_type": "stream",
     "text": [
      "['multan', 'karachi', 'lahore', 'pindi']\n"
     ]
    }
   ],
   "source": [
    "print(cities)\n"
   ]
  },
  {
   "cell_type": "code",
   "execution_count": 7,
   "id": "78506a21",
   "metadata": {},
   "outputs": [
    {
     "data": {
      "text/plain": [
       "['multan', 'karachi', 'lahore', 'pindi', 'peshawar']"
      ]
     },
     "execution_count": 7,
     "metadata": {},
     "output_type": "execute_result"
    }
   ],
   "source": [
    "cities.append(\"peshawar\")\n",
    "cities"
   ]
  },
  {
   "cell_type": "code",
   "execution_count": 10,
   "id": "40ca41fd",
   "metadata": {},
   "outputs": [
    {
     "name": "stdout",
     "output_type": "stream",
     "text": [
      "['karachi', 'lahore', 'pindi']\n"
     ]
    }
   ],
   "source": [
    "print(cities[ 1          :        4 ])                # slicing elements from lists means getting any particular values in the list \n",
    "             #inclusive   exclusive                   # here 1 index represents karachi where 4 index represents peshawar\n",
    "                                                      # peshawar is excluded because the final index does not exclude"
   ]
  },
  {
   "cell_type": "code",
   "execution_count": 11,
   "id": "2960177b",
   "metadata": {},
   "outputs": [
    {
     "name": "stdout",
     "output_type": "stream",
     "text": [
      "True\n"
     ]
    }
   ],
   "source": [
    "print(\"karachi\" in cities)                           # in operator is similar to index function tells us whether the value is\n",
    "                                                     # in the list or not giving us true or false respectively"
   ]
  },
  {
   "cell_type": "code",
   "execution_count": 12,
   "id": "26ddfc4e",
   "metadata": {},
   "outputs": [
    {
     "name": "stdout",
     "output_type": "stream",
     "text": [
      "pindi\n"
     ]
    }
   ],
   "source": [
    "print(cities[3])                                     # one way to get or fetch elements from list "
   ]
  },
  {
   "cell_type": "code",
   "execution_count": 14,
   "id": "a4259833",
   "metadata": {},
   "outputs": [
    {
     "name": "stdout",
     "output_type": "stream",
     "text": [
      "('fahad',)\n"
     ]
    }
   ],
   "source": [
    "#index      -4      -3     -2      -1\n",
    "students=(\"ashir\",\"khan\",\"fahad\",\"ali\")              # two ways to index (0>∞ and 0<∞)\n",
    "#index       0       1      2       3\n",
    "print(students[2 : 3])"
   ]
  },
  {
   "cell_type": "code",
   "execution_count": 15,
   "id": "7f389a18",
   "metadata": {},
   "outputs": [
    {
     "name": "stdout",
     "output_type": "stream",
     "text": [
      "ashir\n",
      "khan\n"
     ]
    }
   ],
   "source": [
    "print(students[0])\n",
    "print(students[-3])"
   ]
  },
  {
   "cell_type": "code",
   "execution_count": 17,
   "id": "531742ed",
   "metadata": {},
   "outputs": [
    {
     "name": "stdout",
     "output_type": "stream",
     "text": [
      "[1, 3, 5, 7, 9, 11, 13, 15, 17, 19]\n"
     ]
    }
   ],
   "source": [
    "# nums = [1,2,3,4,5,6,7,8,9,10,11,12,13,14,15,16,17,18,19,20]  \n",
    "print(nums[::2])                                       # before colon shows beginning of a list, middle colon shows ending of\n",
    "                                                       # a list and the last \"2\" shows the steps taken by the numbers in a list"
   ]
  },
  {
   "cell_type": "code",
   "execution_count": null,
   "id": "96b9f9a8",
   "metadata": {},
   "outputs": [],
   "source": []
  }
 ],
 "metadata": {
  "kernelspec": {
   "display_name": "Python 3 (ipykernel)",
   "language": "python",
   "name": "python3"
  },
  "language_info": {
   "codemirror_mode": {
    "name": "ipython",
    "version": 3
   },
   "file_extension": ".py",
   "mimetype": "text/x-python",
   "name": "python",
   "nbconvert_exporter": "python",
   "pygments_lexer": "ipython3",
   "version": "3.9.7"
  }
 },
 "nbformat": 4,
 "nbformat_minor": 5
}
